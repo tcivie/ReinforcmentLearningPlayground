{
  "cells": [
    {
      "cell_type": "markdown",
      "source": "# Q-Learning on MountainCar-v0 Environment",
      "metadata": {
        "formattedRanges": [],
        "deepnote_app_coordinates": {
          "h": 5,
          "w": 12,
          "x": 0,
          "y": 0
        },
        "cell_id": "3f2e57511b63487e82a5bde8fe6c2ce2",
        "deepnote_cell_type": "text-cell-h1"
      }
    },
    {
      "cell_type": "markdown",
      "source": "Author: Gleb Tcivie",
      "metadata": {
        "is_collapsed": false,
        "formattedRanges": [
          {
            "type": "marks",
            "marks": {
              "underline": true
            },
            "toCodePoint": 19,
            "fromCodePoint": 0
          }
        ],
        "deepnote_app_coordinates": {
          "h": 5,
          "w": 12,
          "x": 0,
          "y": 355
        },
        "cell_id": "d96e5af4e0f2403c8bebc5c3429d4a97",
        "deepnote_cell_type": "text-cell-p"
      }
    },
    {
      "cell_type": "markdown",
      "source": "In this project, we are training a Q-Learning agent to solve the `MountainCar-v0` environment from OpenAI's Gym.",
      "metadata": {
        "formattedRanges": [
          {
            "url": "https://gymnasium.farama.org/environments/classic_control/mountain_car/",
            "type": "link",
            "ranges": [],
            "toCodePoint": 112,
            "fromCodePoint": 65
          }
        ],
        "deepnote_app_coordinates": {
          "h": 2,
          "w": 8,
          "x": 0,
          "y": 7
        },
        "cell_id": "491ec8ad01714bd9a1d554aa0e3027f6",
        "deepnote_cell_type": "text-cell-p"
      }
    },
    {
      "cell_type": "markdown",
      "source": "The objective of the MountainCar environment is to get an underpowered car to the top of a hill. The car is on a one-dimensional track, and the position and velocity of the car are observable at each time step.",
      "metadata": {
        "formattedRanges": [],
        "deepnote_app_coordinates": {
          "h": 2,
          "w": 8,
          "x": 0,
          "y": 10
        },
        "cell_id": "b8585933104942bda4aba4570ca5bdd0",
        "deepnote_cell_type": "text-cell-p"
      }
    },
    {
      "cell_type": "markdown",
      "source": "## Training Process",
      "metadata": {
        "formattedRanges": [],
        "deepnote_app_coordinates": {
          "h": 5,
          "w": 12,
          "x": 0,
          "y": 13
        },
        "cell_id": "cfc13fe739824c54b3005b8f2235041f",
        "deepnote_cell_type": "text-cell-h2"
      }
    },
    {
      "cell_type": "markdown",
      "source": "We implement a Q-Learning algorithm with an ε-greedy policy for action selection. We use a simple table to represent the Q-values of state-action pairs. To handle the continuous state space of the environment, we discretize the states by splitting the position and velocity into bins.",
      "metadata": {
        "formattedRanges": [],
        "deepnote_app_coordinates": {
          "h": 2,
          "w": 8,
          "x": 0,
          "y": 19
        },
        "cell_id": "12f2f3892afd47e2b853b1436861ccb5",
        "deepnote_cell_type": "text-cell-p"
      }
    },
    {
      "cell_type": "markdown",
      "source": "The agent's goal is to maximize the total reward it receives in an episode. The reward at each time step is -1, and an episode ends when the car reaches the goal (position 0.5) or after 200 time steps.",
      "metadata": {
        "formattedRanges": [],
        "deepnote_app_coordinates": {
          "h": 2,
          "w": 8,
          "x": 0,
          "y": 22
        },
        "cell_id": "78af1a3e2aa04e55ba4a86d45e93d775",
        "deepnote_cell_type": "text-cell-p"
      }
    },
    {
      "cell_type": "markdown",
      "source": "## Hyperparameter Tuning",
      "metadata": {
        "formattedRanges": [],
        "deepnote_app_coordinates": {
          "h": 5,
          "w": 12,
          "x": 0,
          "y": 25
        },
        "cell_id": "ed96c73f79a9450abee83ea9d365719d",
        "deepnote_cell_type": "text-cell-h2"
      }
    },
    {
      "cell_type": "markdown",
      "source": "We use Weights & Biases Sweeps for hyperparameter tuning. We explore different values of the learning rate, discount factor, and the number of discretized states. The agent's performance is measured by the average reward over 100 episodes.",
      "metadata": {
        "formattedRanges": [],
        "deepnote_app_coordinates": {
          "h": 2,
          "w": 8,
          "x": 0,
          "y": 31
        },
        "cell_id": "0e5df5d6d0984d54a9d2d819caa8627d",
        "deepnote_cell_type": "text-cell-p"
      }
    },
    {
      "cell_type": "markdown",
      "source": "## Analysis and Visualization",
      "metadata": {
        "formattedRanges": [],
        "deepnote_app_coordinates": {
          "h": 5,
          "w": 12,
          "x": 0,
          "y": 34
        },
        "cell_id": "89364b7a8252424a99a670b74d2730f8",
        "deepnote_cell_type": "text-cell-h2"
      }
    },
    {
      "cell_type": "markdown",
      "source": "- Episode Reward: This represents the total reward accrued in a single episode.",
      "metadata": {
        "formattedRanges": [],
        "deepnote_app_coordinates": {
          "h": 2,
          "w": 8,
          "x": 0,
          "y": 0
        },
        "cell_id": "b9f97fb3a5d74b3bb7242df4d599592a",
        "deepnote_cell_type": "text-cell-bullet"
      }
    },
    {
      "cell_type": "markdown",
      "source": "- Steps: This metric counts the number of steps taken in one episode.",
      "metadata": {
        "formattedRanges": [],
        "deepnote_app_coordinates": {
          "h": 2,
          "w": 8,
          "x": 0,
          "y": 0
        },
        "cell_id": "439f1b5157c84851a7e0bead45f24796",
        "deepnote_cell_type": "text-cell-bullet"
      }
    },
    {
      "cell_type": "markdown",
      "source": "- Epsilon: This refers to the current value of ε, which is used in the ε-greedy policy.",
      "metadata": {
        "formattedRanges": [],
        "deepnote_app_coordinates": {
          "h": 2,
          "w": 8,
          "x": 0,
          "y": 0
        },
        "cell_id": "098c873db2e04fa68fd4d1a1eb60efc5",
        "deepnote_cell_type": "text-cell-bullet"
      }
    },
    {
      "cell_type": "markdown",
      "source": "- Average Reward: This is calculated as the mean episode reward over the last 100 episodes.",
      "metadata": {
        "formattedRanges": [],
        "deepnote_app_coordinates": {
          "h": 2,
          "w": 8,
          "x": 0,
          "y": 0
        },
        "cell_id": "56006bf239e04972a07cfc966bff5ea4",
        "deepnote_cell_type": "text-cell-bullet"
      }
    },
    {
      "cell_type": "markdown",
      "source": "- Max/Min Reward: These are the highest and lowest episode rewards obtained to date.",
      "metadata": {
        "formattedRanges": [],
        "deepnote_app_coordinates": {
          "h": 2,
          "w": 8,
          "x": 0,
          "y": 0
        },
        "cell_id": "20e6ce39cbb24505a65f59d0a5584e10",
        "deepnote_cell_type": "text-cell-bullet"
      }
    },
    {
      "cell_type": "markdown",
      "source": "- EPS: Episodes per second, which is a measure of the simulation speed.",
      "metadata": {
        "formattedRanges": [],
        "deepnote_app_coordinates": {
          "h": 2,
          "w": 8,
          "x": 0,
          "y": 0
        },
        "cell_id": "19e9e0b0a87444fba933848a92023b18",
        "deepnote_cell_type": "text-cell-bullet"
      }
    },
    {
      "cell_type": "markdown",
      "source": "These metrics are plotted on a Weights & Biases dashboard, illustrating the agent's evolving performance as it learns from its interactions within the environment.",
      "metadata": {
        "formattedRanges": [],
        "deepnote_app_coordinates": {
          "h": 2,
          "w": 8,
          "x": 0,
          "y": 46
        },
        "cell_id": "b098efaab9024a0fa0b0c8d1fb43682f",
        "deepnote_cell_type": "text-cell-p"
      }
    },
    {
      "cell_type": "markdown",
      "source": "## Results",
      "metadata": {
        "formattedRanges": [],
        "deepnote_app_coordinates": {
          "h": 5,
          "w": 12,
          "x": 0,
          "y": 49
        },
        "cell_id": "4e532fee11e544adb763443ab9ba0806",
        "deepnote_cell_type": "text-cell-h2"
      }
    },
    {
      "cell_type": "markdown",
      "source": "After training for a specified number of episodes, the agent is able to consistently reach the goal within the 200 time step limit. The hyperparameters found by the sweep lead to more efficient learning compared to a manually chosen baseline.",
      "metadata": {
        "formattedRanges": [],
        "deepnote_app_coordinates": {
          "h": 2,
          "w": 8,
          "x": 0,
          "y": 55
        },
        "cell_id": "28a5c0ed3675457eb9decc4a472c2682",
        "deepnote_cell_type": "text-cell-p"
      }
    },
    {
      "cell_type": "markdown",
      "source": "Due to slowness of loading the notebook I had to move the Weights and Biases result to a link format - You can see the results here",
      "metadata": {
        "formattedRanges": [
          {
            "url": "https://wandb.ai//got-tree/mountain-car-v0/reports/Report-for-Q-Learning-algorithm-on-MountainCart-Problem--Vmlldzo0NzA1Nzg4",
            "type": "link",
            "ranges": [
              {
                "type": "marks",
                "marks": {
                  "bold": true
                },
                "toCodePoint": 28,
                "fromCodePoint": 0
              }
            ],
            "toCodePoint": 131,
            "fromCodePoint": 103
          }
        ],
        "deepnote_app_coordinates": {
          "h": 2,
          "w": 8,
          "x": 0,
          "y": 58
        },
        "cell_id": "52ea596958724e2196ffcae6983969fb",
        "deepnote_cell_type": "text-cell-p"
      }
    },
    {
      "cell_type": "markdown",
      "source": "# Code and Running",
      "metadata": {
        "formattedRanges": [],
        "deepnote_app_coordinates": {
          "h": 5,
          "w": 12,
          "x": 0,
          "y": 0
        },
        "cell_id": "3be0f55f27b3416ab53cc494d673fc86",
        "deepnote_cell_type": "text-cell-h1"
      }
    },
    {
      "cell_type": "markdown",
      "source": "Imports and installs",
      "metadata": {
        "is_collapsed": false,
        "formattedRanges": [],
        "cell_id": "d4025b5f25d0460c8128ce8583ffab34",
        "deepnote_cell_type": "text-cell-p"
      }
    },
    {
      "cell_type": "code",
      "source": "!pip install wandb\n!pip install gym==0.26.2\n!pip install pyglet",
      "metadata": {
        "deepnote_app_coordinates": {
          "h": 5,
          "w": 12,
          "x": 0,
          "y": 0
        },
        "cell_id": "d23ea876822e4a4e8100d4bc74692c25",
        "deepnote_cell_type": "code"
      },
      "outputs": [],
      "execution_count": null
    },
    {
      "cell_type": "code",
      "source": "import gym\nimport numpy as np\nfrom tqdm import tqdm\nimport matplotlib.pyplot as plt\nimport wandb\nimport time",
      "metadata": {
        "source_hash": null,
        "execution_start": 1687361988046,
        "execution_millis": 2062,
        "deepnote_app_coordinates": {
          "h": 7,
          "w": 12,
          "x": 0,
          "y": 70
        },
        "deepnote_to_be_reexecuted": false,
        "cell_id": "68e5300d37934c4db3686c708f4e80c6",
        "deepnote_cell_type": "code"
      },
      "outputs": [],
      "execution_count": null
    },
    {
      "cell_type": "markdown",
      "source": "## Configure Sweeps & Login to Weights and Biases",
      "metadata": {
        "formattedRanges": [],
        "deepnote_app_coordinates": {
          "h": 5,
          "w": 12,
          "x": 0,
          "y": 78
        },
        "cell_id": "a3111123f2914acc8afe3096fbcfa614",
        "deepnote_cell_type": "text-cell-h2"
      }
    },
    {
      "cell_type": "code",
      "source": "wandb.login()\nsweep_config = {\n    'method': 'random',  # or 'grid' or 'bayes'\n    'metric': {\n        'name': 'avg_reward',\n        'goal': 'maximize'   \n    },\n    'parameters': {\n        'learning_rate': {\n            'values': [0.1, 0.01, 0.001]\n        },\n        'discount': {\n            'values': [0.9, 0.95, 0.99]\n        },\n        'epsilon': {\n            'values': [0.5, 0.8, 0.9]\n        },\n        'num_states': {\n            'values': [10, 20, 30, 40]\n        },\n    },\n    'count': 20  # limit sweep to 20 runs\n}",
      "metadata": {
        "source_hash": null,
        "execution_start": 1687361990110,
        "execution_millis": 3643,
        "deepnote_app_coordinates": {
          "h": 26,
          "w": 12,
          "x": 0,
          "y": 84
        },
        "deepnote_to_be_reexecuted": false,
        "cell_id": "8bd3736460ef490f818a956287f97a2a",
        "deepnote_cell_type": "code"
      },
      "outputs": [
        {
          "name": "stderr",
          "text": "Failed to detect the name of this notebook, you can set it manually with the WANDB_NOTEBOOK_NAME environment variable to enable code saving.\n\u001b[34m\u001b[1mwandb\u001b[0m: Currently logged in as: \u001b[33mtcivie\u001b[0m (\u001b[33mgot-tree\u001b[0m). Use \u001b[1m`wandb login --relogin`\u001b[0m to force relogin\n\u001b[34m\u001b[1mwandb\u001b[0m: \u001b[33mWARNING\u001b[0m Malformed sweep config detected! This may cause your sweep to behave in unexpected ways.\n\u001b[34m\u001b[1mwandb\u001b[0m: \u001b[33mWARNING\u001b[0m To avoid this, please fix the sweep config schema violations below:\n\u001b[34m\u001b[1mwandb\u001b[0m: \u001b[33mWARNING\u001b[0m   Violation 1. Additional properties are not allowed ('count' was unexpected)\nCreate sweep with ID: 5kbw64t1\nSweep URL: https://wandb.ai/got-tree/mountain-car-v0/sweeps/5kbw64t1\n",
          "output_type": "stream"
        }
      ],
      "execution_count": null
    },
    {
      "cell_type": "markdown",
      "source": "Number of episodes to iterate",
      "metadata": {
        "formattedRanges": [],
        "deepnote_app_coordinates": {
          "h": 2,
          "w": 8,
          "x": 0,
          "y": 111
        },
        "cell_id": "d341fcd216194740847197274ec7a8ae",
        "deepnote_cell_type": "text-cell-p"
      }
    },
    {
      "cell_type": "code",
      "source": "EPISODES = 25000",
      "metadata": {
        "source_hash": null,
        "execution_start": 1687361993755,
        "execution_millis": 18,
        "deepnote_slider_step": 500,
        "deepnote_variable_name": "EPISODES",
        "deepnote_variable_value": "25000",
        "deepnote_app_coordinates": {
          "h": 4,
          "w": 8,
          "x": 0,
          "y": 114
        },
        "deepnote_slider_max_value": 100000,
        "deepnote_slider_min_value": 1000,
        "deepnote_to_be_reexecuted": false,
        "cell_id": "bef3af04ecd64a888e90b27aed476e8c",
        "deepnote_cell_type": "input-slider"
      },
      "outputs": [],
      "execution_count": null
    },
    {
      "cell_type": "markdown",
      "source": "This function takes in a continuous state and returns a discrete state",
      "metadata": {
        "formattedRanges": [],
        "deepnote_app_coordinates": {
          "h": 2,
          "w": 8,
          "x": 0,
          "y": 119
        },
        "cell_id": "81b3fa4bd7184d8a813462bebcce6355",
        "deepnote_cell_type": "text-cell-p"
      }
    },
    {
      "cell_type": "code",
      "source": "def get_discrete_state(state, env, bin_size):\n    # This is used to convert continuous state space into a discrete state space\n    discrete_state = (state - env.observation_space.low) / bin_size\n    return tuple(discrete_state.astype(int))",
      "metadata": {
        "source_hash": null,
        "execution_start": 1687361993758,
        "execution_millis": 15,
        "deepnote_app_coordinates": {
          "h": 6,
          "w": 12,
          "x": 0,
          "y": 122
        },
        "deepnote_to_be_reexecuted": false,
        "cell_id": "22b5fe2d32694345b280d83d2fab5cec",
        "deepnote_cell_type": "code"
      },
      "outputs": [],
      "execution_count": null
    },
    {
      "cell_type": "markdown",
      "source": "## Defining the main training loop",
      "metadata": {
        "formattedRanges": [],
        "deepnote_app_coordinates": {
          "h": 5,
          "w": 12,
          "x": 0,
          "y": 129
        },
        "cell_id": "80fd0a5b6a6a41548a6eeadc64cf24a1",
        "deepnote_cell_type": "text-cell-h2"
      }
    },
    {
      "cell_type": "markdown",
      "source": "The main loop for the Q-learning algorithm is in the section where we loop over each episode. Inside this loop:",
      "metadata": {
        "formattedRanges": [],
        "deepnote_app_coordinates": {
          "h": 2,
          "w": 8,
          "x": 0,
          "y": 135
        },
        "cell_id": "5cab67d9bb36479b8d720f592840f040",
        "deepnote_cell_type": "text-cell-p"
      }
    },
    {
      "cell_type": "markdown",
      "source": "- We reset the environment and initialize the reward and steps for this episode to zero.",
      "metadata": {
        "formattedRanges": [],
        "deepnote_app_coordinates": {
          "h": 2,
          "w": 8,
          "x": 0,
          "y": 138
        },
        "cell_id": "337a9e78f9eb4f31ab2dbc575bd28ddb",
        "deepnote_cell_type": "text-cell-bullet"
      }
    },
    {
      "cell_type": "markdown",
      "source": "- We use the epsilon-greedy method to select actions and execute them in the environment.",
      "metadata": {
        "formattedRanges": [],
        "deepnote_app_coordinates": {
          "h": 2,
          "w": 8,
          "x": 0,
          "y": 141
        },
        "cell_id": "7b5dd8cca1404666ab24295dfe500d1e",
        "deepnote_cell_type": "text-cell-bullet"
      }
    },
    {
      "cell_type": "markdown",
      "source": "- The Q-value for the executed action is updated using the Q-learning update rule.We also log the episode per second, reward, reward per second, and steps per second to wandb.",
      "metadata": {
        "formattedRanges": [],
        "deepnote_app_coordinates": {
          "h": 2,
          "w": 8,
          "x": 0,
          "y": 144
        },
        "cell_id": "eae605e9a574427385bc54361e79c825",
        "deepnote_cell_type": "text-cell-bullet"
      }
    },
    {
      "cell_type": "markdown",
      "source": "### Creating helper functions",
      "metadata": {
        "formattedRanges": [],
        "deepnote_app_coordinates": {
          "h": 5,
          "w": 12,
          "x": 0,
          "y": 147
        },
        "cell_id": "29d5ec04be49400a9da94763f0ef9f7e",
        "deepnote_cell_type": "text-cell-h3"
      }
    },
    {
      "cell_type": "markdown",
      "source": "reset_environment(env, bin_size) - This function resets the environment to its initial state at the beginning of each episode. It also converts the initial state into a discrete format, as our Q-table is based on discrete states and actions. It takes the environment and bin size as input and returns the initial observation and the discrete state.",
      "metadata": {
        "formattedRanges": [
          {
            "type": "marks",
            "marks": {
              "code": true
            },
            "toCodePoint": 32,
            "fromCodePoint": 0
          }
        ],
        "deepnote_app_coordinates": {
          "h": 2,
          "w": 8,
          "x": 0,
          "y": 153
        },
        "cell_id": "7fa062d5d33b45a487d93453b1ba131e",
        "deepnote_cell_type": "text-cell-p"
      }
    },
    {
      "cell_type": "markdown",
      "source": "choose_action(discrete_state, q_table, epsilon, env) - This function implements the ε-greedy policy for action selection. With a probability of ε, it selects a random action, and with a probability of (1-ε), it selects the action with the highest Q-value in the current state. It takes the current discrete state, the Q-table, the epsilon value, and the environment as input and returns the chosen action.",
      "metadata": {
        "formattedRanges": [
          {
            "type": "marks",
            "marks": {
              "code": true
            },
            "toCodePoint": 52,
            "fromCodePoint": 0
          }
        ],
        "deepnote_app_coordinates": {
          "h": 2,
          "w": 8,
          "x": 0,
          "y": 156
        },
        "cell_id": "04dd4add92e745f6af49250e39d7ee01",
        "deepnote_cell_type": "text-cell-p"
      }
    },
    {
      "cell_type": "markdown",
      "source": "update_q_table(q_table, discrete_state, action, reward, new_discrete_state, LEARNING_RATE, DISCOUNT) - This function updates the Q-value for the current state-action pair based on the Q-Learning update rule. It takes the Q-table, the current discrete state, the chosen action, the reward obtained, the new discrete state, learning rate, and discount factor as input. It doesn't return anything as the Q-table is updated in-place.",
      "metadata": {
        "formattedRanges": [
          {
            "type": "marks",
            "marks": {
              "code": true
            },
            "toCodePoint": 100,
            "fromCodePoint": 0
          }
        ],
        "deepnote_app_coordinates": {
          "h": 2,
          "w": 8,
          "x": 0,
          "y": 159
        },
        "cell_id": "f73f1a21b2f14d32aa670a9357a1ad5b",
        "deepnote_cell_type": "text-cell-p"
      }
    },
    {
      "cell_type": "markdown",
      "source": "This is the Q-Learning formula used in the <i>update_q_table</i> function:<image src=\"https://wikimedia.org/api/rest_v1/media/math/render/svg/d247db9eaad4bd343e7882ec546bf3847ebd36d8\"></image><ul>\n<li>Q(s,a) is the current estimate of the Q-value for the state-action pair (s, a)</li><li>α is the learning rate</li><li>r is the immediate reward obtained after taking action a in state s</li><li>γ is the discount factor</li><li>max Q(s',a') is the maximum Q-value over all actions a' in the next state s'</li></ul>",
      "metadata": {
        "deepnote_app_coordinates": {
          "h": 14,
          "w": 12,
          "x": 0,
          "y": 162
        },
        "cell_id": "8a6ed717848644d89ac8634252448c49",
        "deepnote_cell_type": "markdown"
      }
    },
    {
      "cell_type": "markdown",
      "source": "log_metrics(run, reward_list, max_reward_list, min_reward_list, episode_reward, episode_steps, duration, epsilon) - This function logs various metrics of interest during the training process. These metrics include the average reward over the last 100 episodes, the total reward in the current episode, the number of steps in the current episode, the current ε value, and the minimum and maximum rewards obtained so far. It takes the current run, lists to store total, maximum and minimum rewards per episode, reward for the current episode, number of steps in the current episode, duration of the current episode, and the current ε value as input. The metrics are logged to the current Weights & Biases run for visualizing the training progress.",
      "metadata": {
        "formattedRanges": [
          {
            "type": "marks",
            "marks": {
              "code": true
            },
            "toCodePoint": 113,
            "fromCodePoint": 0
          }
        ],
        "deepnote_app_coordinates": {
          "h": 2,
          "w": 8,
          "x": 0,
          "y": 177
        },
        "cell_id": "eedc209f92484e85b788abd2bce2ba0b",
        "deepnote_cell_type": "text-cell-p"
      }
    },
    {
      "cell_type": "code",
      "source": "def reset_environment(env, bin_size):\n    observation, info = env.reset()\n    discrete_state = get_discrete_state(observation, env, bin_size)\n    return observation, discrete_state\n\ndef choose_action(discrete_state, q_table, epsilon, env):\n    if np.random.random() > epsilon:\n        action = np.argmax(q_table[discrete_state])\n    else:\n        action = np.random.randint(0, env.action_space.n)\n    return action\n\ndef update_q_table(q_table, discrete_state, action, reward, new_discrete_state, LEARNING_RATE, DISCOUNT):\n    max_future_q = np.max(q_table[new_discrete_state])  # estimate of optimal future value\n    current_q = q_table[discrete_state + (action,)]  # current Q-value\n    new_q = (1 - LEARNING_RATE) * current_q + LEARNING_RATE * (reward + DISCOUNT * max_future_q)\n    q_table[discrete_state + (action,)] = new_q # update Q-table with new Q-value\n\ndef log_metrics(run, reward_list, max_reward_list, min_reward_list, episode_reward, episode_steps, duration, epsilon):\n    reward_list.append(episode_reward)\n    max_reward_list.append(max(episode_reward, max_reward_list[-1]) if max_reward_list else episode_reward)\n    min_reward_list.append(min(episode_reward, min_reward_list[-1]) if min_reward_list else episode_reward)\n    avg_reward = np.mean(reward_list[-100:])  # average over last 100 episodes\n    metrics = {'eps': 1/duration, 'reward': episode_reward, 'steps': episode_steps,\n               'epsilon': epsilon, 'avg_reward': avg_reward, 'max_reward': max_reward_list[-1], \n               'min_reward': min_reward_list[-1]}\n    run.log(metrics)",
      "metadata": {
        "source_hash": null,
        "execution_start": 1687361993768,
        "execution_millis": 5,
        "deepnote_app_coordinates": {
          "h": 23,
          "w": 12,
          "x": 0,
          "y": 183
        },
        "deepnote_to_be_reexecuted": false,
        "cell_id": "e9c4b8d2005940248b8d40a7840ee4d7",
        "deepnote_cell_type": "code"
      },
      "outputs": [],
      "execution_count": null
    },
    {
      "cell_type": "markdown",
      "source": "### The main loop",
      "metadata": {
        "formattedRanges": [],
        "deepnote_app_coordinates": {
          "h": 5,
          "w": 12,
          "x": 0,
          "y": 207
        },
        "cell_id": "0f4d76b367da4b86b3d7292c40d8ad8c",
        "deepnote_cell_type": "text-cell-h3"
      }
    },
    {
      "cell_type": "markdown",
      "source": "run_episodes(run, env, q_table, bin_size, epsilon, LEARNING_RATE, epsilon_decay_value, DISCOUNT, END_EPSILON_DECAYING, START_EPSILON_DECAYING) - This function contains the main training loop. In each episode, it resets the environment, selects actions according to the ε-greedy policy, takes the actions in the environment, updates the Q-table, and logs the training metrics. It takes the current run, the environment, the Q-table, the bin size for discretizing states, the initial epsilon value, the learning rate, the epsilon decay value, the discount factor, and the start and end episodes for epsilon decay as input. The Q-table gets updated in-place during the training process, and the training metrics are logged to the current Weights & Biases run.",
      "metadata": {
        "formattedRanges": [
          {
            "type": "marks",
            "marks": {
              "code": true
            },
            "toCodePoint": 142,
            "fromCodePoint": 0
          },
          {
            "type": "marks",
            "marks": {
              "bold": true
            },
            "toCodePoint": 190,
            "fromCodePoint": 168
          }
        ],
        "deepnote_app_coordinates": {
          "h": 2,
          "w": 8,
          "x": 0,
          "y": 213
        },
        "cell_id": "87a2ded52b024fd9b02cfbed5bfbf20c",
        "deepnote_cell_type": "text-cell-p"
      }
    },
    {
      "cell_type": "code",
      "source": "def run_episodes(run, env, q_table, bin_size, epsilon, LEARNING_RATE, epsilon_decay_value, DISCOUNT, END_EPSILON_DECAYING, START_EPSILON_DECAYING):\n    # Additional data lists\n    reward_list = []\n    max_reward_list = []\n    min_reward_list = []\n\n    for episode in tqdm(range(EPISODES), desc=\"Training\", unit=\"episode\"):\n        start_time = time.time()\n        episode_reward = 0  # initialize the reward for this episode\n        episode_steps = 0  # initialize the number of steps for this episode\n\n        observation, discrete_state = reset_environment(env, bin_size)\n        \n        done = False\n        while not done:\n            action = choose_action(discrete_state, q_table, epsilon, env)\n            observation, reward, terminated, truncated, info = env.step(action)\n            new_discrete_state = get_discrete_state(observation, env, bin_size)\n\n            if not done:\n                update_q_table(q_table, discrete_state, action, reward, new_discrete_state, LEARNING_RATE, DISCOUNT)\n            if observation[0] >= env.goal_position:\n                done = True\n                q_table[discrete_state + (action,)] = 0\n\n            discrete_state = new_discrete_state\n            episode_reward += reward\n            episode_steps += 1\n\n        end_time = time.time()\n        duration = end_time - start_time\n\n        log_metrics(run, reward_list, max_reward_list, min_reward_list, episode_reward, episode_steps, duration, epsilon)\n        \n        if END_EPSILON_DECAYING >= episode >= START_EPSILON_DECAYING:\n            epsilon -= epsilon_decay_value",
      "metadata": {
        "source_hash": null,
        "execution_start": 1687361993776,
        "execution_millis": 53,
        "deepnote_app_coordinates": {
          "h": 28,
          "w": 12,
          "x": 0,
          "y": 216
        },
        "deepnote_to_be_reexecuted": false,
        "cell_id": "8f9892bdf6f2416289a2ab55449852df",
        "deepnote_cell_type": "code"
      },
      "outputs": [],
      "execution_count": null
    },
    {
      "cell_type": "markdown",
      "source": "train() is a warper for the run_episodes() which is made to utilise the Weights and Biases sweeps functionality",
      "metadata": {
        "formattedRanges": [
          {
            "type": "marks",
            "marks": {
              "code": true
            },
            "toCodePoint": 7,
            "fromCodePoint": 0
          },
          {
            "type": "marks",
            "marks": {
              "code": true
            },
            "toCodePoint": 42,
            "fromCodePoint": 28
          }
        ],
        "deepnote_app_coordinates": {
          "h": 2,
          "w": 8,
          "x": 0,
          "y": 245
        },
        "cell_id": "75e3b78b18cb4eb38694ba997dabbd83",
        "deepnote_cell_type": "text-cell-p"
      }
    },
    {
      "cell_type": "code",
      "source": "def train():\n\n    # Initialize a new wandb run\n    run = wandb.init(config=wandb.config)\n\n    # Config is a variable that holds and saves hyperparameters and inputs\n    config = wandb.config\n\n    LEARNING_RATE = config.learning_rate\n    DISCOUNT = config.discount\n    epsilon = config.epsilon\n    START_EPSILON_DECAYING = 1\n    END_EPSILON_DECAYING = EPISODES // 2\n    num_states = np.array([config.num_states, config.num_states])\n    epsilon_decay_value = epsilon / (END_EPSILON_DECAYING - START_EPSILON_DECAYING)\n\n    env = gym.make('MountainCar-v0')\n    bin_size = (env.observation_space.high - env.observation_space.low) / num_states\n\n    # Initialize Q-table with zeros\n    q_table = np.zeros(shape=(num_states[0] ,num_states[1], env.action_space.n))\n    run_episodes(run, env, q_table, bin_size, epsilon, LEARNING_RATE, epsilon_decay_value, DISCOUNT, END_EPSILON_DECAYING, START_EPSILON_DECAYING)\n\n    # Save the Q-table as an Artifact\n    artifact = wandb.Artifact('q_table', type='model')\n    np.save('q_table.npy', q_table)\n    artifact.add_file('q_table.npy')\n    run.log_artifact(artifact)\n\n    env.close()\n    run.finish()  # End the run",
      "metadata": {
        "source_hash": null,
        "execution_start": 1687361993818,
        "execution_millis": 12,
        "deepnote_app_coordinates": {
          "h": 25,
          "w": 12,
          "x": 0,
          "y": 248
        },
        "deepnote_to_be_reexecuted": false,
        "cell_id": "23021fff98c54305b92766d86e23718a",
        "deepnote_cell_type": "code"
      },
      "outputs": [],
      "execution_count": null
    },
    {
      "cell_type": "markdown",
      "source": "Run the sweeps",
      "metadata": {
        "formattedRanges": [],
        "deepnote_app_coordinates": {
          "h": 2,
          "w": 8,
          "x": 0,
          "y": 274
        },
        "cell_id": "cd40ae8d645a463d99471a3af5c49856",
        "deepnote_cell_type": "text-cell-p"
      }
    },
    {
      "cell_type": "code",
      "source": "sweep_id = wandb.sweep(sweep_config, project=\"mountain-car-v0\")\nwandb.agent(sweep_id, train)\n",
      "metadata": {
        "source_hash": null,
        "execution_start": 1687361993819,
        "execution_millis": 236113,
        "deepnote_app_coordinates": {
          "h": 29,
          "w": 12,
          "x": 0,
          "y": 277
        },
        "deepnote_to_be_reexecuted": false,
        "cell_id": "c9575498076b494e97993f177435f54b",
        "deepnote_cell_type": "code"
      },
      "outputs": [
        {
          "name": "stderr",
          "text": "\u001b[34m\u001b[1mwandb\u001b[0m: \u001b[33mWARNING\u001b[0m Malformed sweep config detected! This may cause your sweep to behave in unexpected ways.\n\u001b[34m\u001b[1mwandb\u001b[0m: \u001b[33mWARNING\u001b[0m To avoid this, please fix the sweep config schema violations below:\n\u001b[34m\u001b[1mwandb\u001b[0m: \u001b[33mWARNING\u001b[0m   Violation 1. Additional properties are not allowed ('count' was unexpected)\nCreate sweep with ID: gir0m6jz\nSweep URL: https://wandb.ai/got-tree/mountain-car-v0/sweeps/gir0m6jz\n\u001b[34m\u001b[1mwandb\u001b[0m: Agent Starting Run: 0xnvr641 with config:\n\u001b[34m\u001b[1mwandb\u001b[0m: \tdiscount: 0.95\n\u001b[34m\u001b[1mwandb\u001b[0m: \tepsilon: 0.9\n\u001b[34m\u001b[1mwandb\u001b[0m: \tlearning_rate: 0.01\n\u001b[34m\u001b[1mwandb\u001b[0m: \tnum_states: 40\nFailed to detect the name of this notebook, you can set it manually with the WANDB_NOTEBOOK_NAME environment variable to enable code saving.\n",
          "output_type": "stream"
        },
        {
          "data": {
            "text/plain": "<IPython.core.display.HTML object>",
            "text/html": "Tracking run with wandb version 0.15.4"
          },
          "metadata": {},
          "output_type": "display_data"
        },
        {
          "data": {
            "text/plain": "<IPython.core.display.HTML object>",
            "text/html": "Run data is saved locally in <code>/work/wandb/run-20230621_154000-0xnvr641</code>"
          },
          "metadata": {},
          "output_type": "display_data"
        },
        {
          "data": {
            "text/plain": "<IPython.core.display.HTML object>",
            "text/html": "Syncing run <strong><a href='https://wandb.ai/got-tree/mountain-car-v0/runs/0xnvr641' target=\"_blank\">different-sweep-1</a></strong> to <a href='https://wandb.ai/got-tree/mountain-car-v0' target=\"_blank\">Weights & Biases</a> (<a href='https://wandb.me/run' target=\"_blank\">docs</a>)<br/>Sweep page: <a href='https://wandb.ai/got-tree/mountain-car-v0/sweeps/gir0m6jz' target=\"_blank\">https://wandb.ai/got-tree/mountain-car-v0/sweeps/gir0m6jz</a>"
          },
          "metadata": {},
          "output_type": "display_data"
        },
        {
          "data": {
            "text/plain": "<IPython.core.display.HTML object>",
            "text/html": " View project at <a href='https://wandb.ai/got-tree/mountain-car-v0' target=\"_blank\">https://wandb.ai/got-tree/mountain-car-v0</a>"
          },
          "metadata": {},
          "output_type": "display_data"
        },
        {
          "data": {
            "text/plain": "<IPython.core.display.HTML object>",
            "text/html": " View sweep at <a href='https://wandb.ai/got-tree/mountain-car-v0/sweeps/gir0m6jz' target=\"_blank\">https://wandb.ai/got-tree/mountain-car-v0/sweeps/gir0m6jz</a>"
          },
          "metadata": {},
          "output_type": "display_data"
        },
        {
          "data": {
            "text/plain": "<IPython.core.display.HTML object>",
            "text/html": " View run at <a href='https://wandb.ai/got-tree/mountain-car-v0/runs/0xnvr641' target=\"_blank\">https://wandb.ai/got-tree/mountain-car-v0/runs/0xnvr641</a>"
          },
          "metadata": {},
          "output_type": "display_data"
        },
        {
          "name": "stderr",
          "text": "Training: 100%|██████████| 25000/25000 [20:06<00:00, 20.71episode/s]\n",
          "output_type": "stream"
        },
        {
          "data": {
            "text/plain": "<IPython.core.display.HTML object>",
            "text/html": "Waiting for W&B process to finish... <strong style=\"color:green\">(success).</strong>"
          },
          "metadata": {},
          "output_type": "display_data"
        },
        {
          "data": {
            "text/plain": "<IPython.core.display.HTML object>",
            "text/html": "<style>\n    table.wandb td:nth-child(1) { padding: 0 10px; text-align: left ; width: auto;} td:nth-child(2) {text-align: left ; width: 100%}\n    .wandb-row { display: flex; flex-direction: row; flex-wrap: wrap; justify-content: flex-start; width: 100% }\n    .wandb-col { display: flex; flex-direction: column; flex-basis: 100%; flex: 1; padding: 10px; }\n    </style>\n<div class=\"wandb-row\"><div class=\"wandb-col\"><h3>Run history:</h3><br/><table class=\"wandb\"><tr><td>avg_reward</td><td>▁▅▆▇▇▇██████████████████████████████████</td></tr><tr><td>eps</td><td>▁▁▁▁▂▂▂▄▃█▄▄▅▅▄▄▃▃▃▁▅▄▆▅▄▇▄▆▇▅▇▄▄█▆▇▆▅▇▆</td></tr><tr><td>epsilon</td><td>██▇▇▇▆▆▆▅▅▄▄▄▃▃▃▂▂▂▁▁▁▁▁▁▁▁▁▁▁▁▁▁▁▁▁▁▁▁▁</td></tr><tr><td>max_reward</td><td>▁▄▅▆▇▇▇▇████████████████████████████████</td></tr><tr><td>min_reward</td><td>▁▁▁▁▁▁▁▁▁▁▁▁▁▁▁▁▁▁▁▁▁▁▁▁▁▁▁▁▁▁▁▁▁▁▁▁▁▁▁▁</td></tr><tr><td>reward</td><td>▂▃▁▂▅▅▅▆▇█▇▇▇█▇█▇▇▇██▇▇▇███▇█████████▇██</td></tr><tr><td>steps</td><td>▇▆█▇▄▄▄▃▂▁▂▂▂▁▂▁▂▂▂▁▁▂▂▂▁▁▁▂▁▁▁▁▁▁▁▁▁▂▁▁</td></tr></table><br/></div><div class=\"wandb-col\"><h3>Run summary:</h3><br/><table class=\"wandb\"><tr><td>avg_reward</td><td>-184.89</td></tr><tr><td>eps</td><td>65.34507</td></tr><tr><td>epsilon</td><td>-7e-05</td></tr><tr><td>max_reward</td><td>-118.0</td></tr><tr><td>min_reward</td><td>-110817.0</td></tr><tr><td>reward</td><td>-187.0</td></tr><tr><td>steps</td><td>187</td></tr></table><br/></div></div>"
          },
          "metadata": {},
          "output_type": "display_data"
        },
        {
          "data": {
            "text/plain": "<IPython.core.display.HTML object>",
            "text/html": " View run <strong style=\"color:#cdcd00\">different-sweep-1</strong> at: <a href='https://wandb.ai/got-tree/mountain-car-v0/runs/0xnvr641' target=\"_blank\">https://wandb.ai/got-tree/mountain-car-v0/runs/0xnvr641</a><br/>Synced 5 W&B file(s), 0 media file(s), 1 artifact file(s) and 0 other file(s)"
          },
          "metadata": {},
          "output_type": "display_data"
        },
        {
          "data": {
            "text/plain": "<IPython.core.display.HTML object>",
            "text/html": "Find logs at: <code>./wandb/run-20230621_154000-0xnvr641/logs</code>"
          },
          "metadata": {},
          "output_type": "display_data"
        },
        {
          "name": "stderr",
          "text": "\u001b[34m\u001b[1mwandb\u001b[0m: Agent Starting Run: i11jzyn7 with config:\n\u001b[34m\u001b[1mwandb\u001b[0m: \tdiscount: 0.99\n\u001b[34m\u001b[1mwandb\u001b[0m: \tepsilon: 0.5\n\u001b[34m\u001b[1mwandb\u001b[0m: \tlearning_rate: 0.001\n\u001b[34m\u001b[1mwandb\u001b[0m: \tnum_states: 20\nFailed to detect the name of this notebook, you can set it manually with the WANDB_NOTEBOOK_NAME environment variable to enable code saving.\n",
          "output_type": "stream"
        },
        {
          "data": {
            "text/plain": "<IPython.core.display.HTML object>",
            "text/html": "Tracking run with wandb version 0.15.4"
          },
          "metadata": {},
          "output_type": "display_data"
        },
        {
          "data": {
            "text/plain": "<IPython.core.display.HTML object>",
            "text/html": "Run data is saved locally in <code>/work/wandb/run-20230621_160019-i11jzyn7</code>"
          },
          "metadata": {},
          "output_type": "display_data"
        },
        {
          "data": {
            "text/plain": "<IPython.core.display.HTML object>",
            "text/html": "Syncing run <strong><a href='https://wandb.ai/got-tree/mountain-car-v0/runs/i11jzyn7' target=\"_blank\">confused-sweep-2</a></strong> to <a href='https://wandb.ai/got-tree/mountain-car-v0' target=\"_blank\">Weights & Biases</a> (<a href='https://wandb.me/run' target=\"_blank\">docs</a>)<br/>Sweep page: <a href='https://wandb.ai/got-tree/mountain-car-v0/sweeps/gir0m6jz' target=\"_blank\">https://wandb.ai/got-tree/mountain-car-v0/sweeps/gir0m6jz</a>"
          },
          "metadata": {},
          "output_type": "display_data"
        },
        {
          "data": {
            "text/plain": "<IPython.core.display.HTML object>",
            "text/html": " View project at <a href='https://wandb.ai/got-tree/mountain-car-v0' target=\"_blank\">https://wandb.ai/got-tree/mountain-car-v0</a>"
          },
          "metadata": {},
          "output_type": "display_data"
        },
        {
          "data": {
            "text/plain": "<IPython.core.display.HTML object>",
            "text/html": " View sweep at <a href='https://wandb.ai/got-tree/mountain-car-v0/sweeps/gir0m6jz' target=\"_blank\">https://wandb.ai/got-tree/mountain-car-v0/sweeps/gir0m6jz</a>"
          },
          "metadata": {},
          "output_type": "display_data"
        },
        {
          "data": {
            "text/plain": "<IPython.core.display.HTML object>",
            "text/html": " View run at <a href='https://wandb.ai/got-tree/mountain-car-v0/runs/i11jzyn7' target=\"_blank\">https://wandb.ai/got-tree/mountain-car-v0/runs/i11jzyn7</a>"
          },
          "metadata": {},
          "output_type": "display_data"
        },
        {
          "name": "stderr",
          "text": "Training: 100%|██████████| 25000/25000 [24:08<00:00, 17.25episode/s]\n",
          "output_type": "stream"
        },
        {
          "data": {
            "text/plain": "<IPython.core.display.HTML object>",
            "text/html": "Waiting for W&B process to finish... <strong style=\"color:green\">(success).</strong>"
          },
          "metadata": {},
          "output_type": "display_data"
        },
        {
          "data": {
            "text/plain": "<IPython.core.display.HTML object>",
            "text/html": "<style>\n    table.wandb td:nth-child(1) { padding: 0 10px; text-align: left ; width: auto;} td:nth-child(2) {text-align: left ; width: 100%}\n    .wandb-row { display: flex; flex-direction: row; flex-wrap: wrap; justify-content: flex-start; width: 100% }\n    .wandb-col { display: flex; flex-direction: column; flex-basis: 100%; flex: 1; padding: 10px; }\n    </style>\n<div class=\"wandb-row\"><div class=\"wandb-col\"><h3>Run history:</h3><br/><table class=\"wandb\"><tr><td>avg_reward</td><td>▁▅▅▆▆▇▇▇▇▇▇▇███▇████████████████████████</td></tr><tr><td>eps</td><td>▁▂▂▁▁▄▂▃▃▃▁▄▃▃▄▄▃▃▅▇▅▃▅▃▆▄▅▇▆▆▃▃▇▃▄▆▄▇▇█</td></tr><tr><td>epsilon</td><td>██▇▇▇▆▆▆▅▅▄▄▄▃▃▃▂▂▂▁▁▁▁▁▁▁▁▁▁▁▁▁▁▁▁▁▁▁▁▁</td></tr><tr><td>max_reward</td><td>▁▅▆▇▇▇▇▇▇▇▇▇▇███████████████████████████</td></tr><tr><td>min_reward</td><td>▁▁▁▁▁▁▁▁▁▁▁▁▁▁▁▁▁▁▁▁▁▁▁▁▁▁▁▁▁▁▁▁▁▁▁▁▁▁▁▁</td></tr><tr><td>reward</td><td>▁▆▅▄▄▇▆▇▇▇▃▇▇▇▇▇▇▇██▇██████████▆██▇█████</td></tr><tr><td>steps</td><td>█▃▄▅▅▂▃▂▂▂▆▂▂▂▂▂▂▂▁▁▂▁▁▁▁▁▁▁▁▁▁▃▁▁▂▁▁▁▁▁</td></tr></table><br/></div><div class=\"wandb-col\"><h3>Run summary:</h3><br/><table class=\"wandb\"><tr><td>avg_reward</td><td>-251.49</td></tr><tr><td>eps</td><td>60.27078</td></tr><tr><td>epsilon</td><td>-4e-05</td></tr><tr><td>max_reward</td><td>-155.0</td></tr><tr><td>min_reward</td><td>-85686.0</td></tr><tr><td>reward</td><td>-237.0</td></tr><tr><td>steps</td><td>237</td></tr></table><br/></div></div>"
          },
          "metadata": {},
          "output_type": "display_data"
        },
        {
          "data": {
            "text/plain": "<IPython.core.display.HTML object>",
            "text/html": " View run <strong style=\"color:#cdcd00\">confused-sweep-2</strong> at: <a href='https://wandb.ai/got-tree/mountain-car-v0/runs/i11jzyn7' target=\"_blank\">https://wandb.ai/got-tree/mountain-car-v0/runs/i11jzyn7</a><br/>Synced 5 W&B file(s), 0 media file(s), 1 artifact file(s) and 0 other file(s)"
          },
          "metadata": {},
          "output_type": "display_data"
        },
        {
          "data": {
            "text/plain": "<IPython.core.display.HTML object>",
            "text/html": "Find logs at: <code>./wandb/run-20230621_160019-i11jzyn7/logs</code>"
          },
          "metadata": {},
          "output_type": "display_data"
        },
        {
          "name": "stderr",
          "text": "\u001b[34m\u001b[1mwandb\u001b[0m: Agent Starting Run: cf8v2vou with config:\n\u001b[34m\u001b[1mwandb\u001b[0m: \tdiscount: 0.9\n\u001b[34m\u001b[1mwandb\u001b[0m: \tepsilon: 0.8\n\u001b[34m\u001b[1mwandb\u001b[0m: \tlearning_rate: 0.001\n\u001b[34m\u001b[1mwandb\u001b[0m: \tnum_states: 30\nFailed to detect the name of this notebook, you can set it manually with the WANDB_NOTEBOOK_NAME environment variable to enable code saving.\n",
          "output_type": "stream"
        },
        {
          "data": {
            "text/plain": "<IPython.core.display.HTML object>",
            "text/html": "Tracking run with wandb version 0.15.4"
          },
          "metadata": {},
          "output_type": "display_data"
        },
        {
          "data": {
            "text/plain": "<IPython.core.display.HTML object>",
            "text/html": "Run data is saved locally in <code>/work/wandb/run-20230621_162437-cf8v2vou</code>"
          },
          "metadata": {},
          "output_type": "display_data"
        },
        {
          "data": {
            "text/plain": "<IPython.core.display.HTML object>",
            "text/html": "Syncing run <strong><a href='https://wandb.ai/got-tree/mountain-car-v0/runs/cf8v2vou' target=\"_blank\">crisp-sweep-3</a></strong> to <a href='https://wandb.ai/got-tree/mountain-car-v0' target=\"_blank\">Weights & Biases</a> (<a href='https://wandb.me/run' target=\"_blank\">docs</a>)<br/>Sweep page: <a href='https://wandb.ai/got-tree/mountain-car-v0/sweeps/gir0m6jz' target=\"_blank\">https://wandb.ai/got-tree/mountain-car-v0/sweeps/gir0m6jz</a>"
          },
          "metadata": {},
          "output_type": "display_data"
        },
        {
          "data": {
            "text/plain": "<IPython.core.display.HTML object>",
            "text/html": " View project at <a href='https://wandb.ai/got-tree/mountain-car-v0' target=\"_blank\">https://wandb.ai/got-tree/mountain-car-v0</a>"
          },
          "metadata": {},
          "output_type": "display_data"
        },
        {
          "data": {
            "text/plain": "<IPython.core.display.HTML object>",
            "text/html": " View sweep at <a href='https://wandb.ai/got-tree/mountain-car-v0/sweeps/gir0m6jz' target=\"_blank\">https://wandb.ai/got-tree/mountain-car-v0/sweeps/gir0m6jz</a>"
          },
          "metadata": {},
          "output_type": "display_data"
        },
        {
          "data": {
            "text/plain": "<IPython.core.display.HTML object>",
            "text/html": " View run at <a href='https://wandb.ai/got-tree/mountain-car-v0/runs/cf8v2vou' target=\"_blank\">https://wandb.ai/got-tree/mountain-car-v0/runs/cf8v2vou</a>"
          },
          "metadata": {},
          "output_type": "display_data"
        },
        {
          "name": "stderr",
          "text": "Training: 100%|██████████| 25000/25000 [34:56<00:00, 11.93episode/s]\n",
          "output_type": "stream"
        },
        {
          "data": {
            "text/plain": "<IPython.core.display.HTML object>",
            "text/html": "Waiting for W&B process to finish... <strong style=\"color:green\">(success).</strong>"
          },
          "metadata": {},
          "output_type": "display_data"
        },
        {
          "data": {
            "text/plain": "<IPython.core.display.HTML object>",
            "text/html": "<style>\n    table.wandb td:nth-child(1) { padding: 0 10px; text-align: left ; width: auto;} td:nth-child(2) {text-align: left ; width: 100%}\n    .wandb-row { display: flex; flex-direction: row; flex-wrap: wrap; justify-content: flex-start; width: 100% }\n    .wandb-col { display: flex; flex-direction: column; flex-basis: 100%; flex: 1; padding: 10px; }\n    </style>\n<div class=\"wandb-row\"><div class=\"wandb-col\"><h3>Run history:</h3><br/><table class=\"wandb\"><tr><td>avg_reward</td><td>▁▅▆▆▇▇▇▇▇▇▇▇▇███████████████████████████</td></tr><tr><td>eps</td><td>▁▁▁▁▂▁▂▁▁▃▄▃▄▃▄▃▅▃▃▄▅▆▂▃▅▇▇▇▅▃▅▄▄▃▄█▆▅▅▆</td></tr><tr><td>epsilon</td><td>██▇▇▇▆▆▆▅▅▄▄▄▃▃▃▂▂▂▁▁▁▁▁▁▁▁▁▁▁▁▁▁▁▁▁▁▁▁▁</td></tr><tr><td>max_reward</td><td>▁▅▅▆▆▇▇▇▇▇▇▇▇▇▇▇▇███████████████████████</td></tr><tr><td>min_reward</td><td>▁▁▁▁▁▁▁▁▁▁▁▁▁▁▁▁▁▁▁▁▁▁▁▁▁▁▁▁▁▁▁▁▁▁▁▁▁▁▁▁</td></tr><tr><td>reward</td><td>▃▂▃▃▅▁▄▄▄▇▇▆▇▆▇▇▇▆▇▇▇█▇▇▇████▇█▇█▇██████</td></tr><tr><td>steps</td><td>▆▇▆▆▄█▅▅▅▂▂▃▂▃▂▂▂▃▂▂▂▁▂▂▂▁▁▁▁▂▁▂▁▂▁▁▁▁▁▁</td></tr></table><br/></div><div class=\"wandb-col\"><h3>Run summary:</h3><br/><table class=\"wandb\"><tr><td>avg_reward</td><td>-385.51</td></tr><tr><td>eps</td><td>24.69867</td></tr><tr><td>epsilon</td><td>-6e-05</td></tr><tr><td>max_reward</td><td>-230.0</td></tr><tr><td>min_reward</td><td>-84643.0</td></tr><tr><td>reward</td><td>-345.0</td></tr><tr><td>steps</td><td>345</td></tr></table><br/></div></div>"
          },
          "metadata": {},
          "output_type": "display_data"
        },
        {
          "data": {
            "text/plain": "<IPython.core.display.HTML object>",
            "text/html": " View run <strong style=\"color:#cdcd00\">crisp-sweep-3</strong> at: <a href='https://wandb.ai/got-tree/mountain-car-v0/runs/cf8v2vou' target=\"_blank\">https://wandb.ai/got-tree/mountain-car-v0/runs/cf8v2vou</a><br/>Synced 5 W&B file(s), 0 media file(s), 1 artifact file(s) and 0 other file(s)"
          },
          "metadata": {},
          "output_type": "display_data"
        },
        {
          "data": {
            "text/plain": "<IPython.core.display.HTML object>",
            "text/html": "Find logs at: <code>./wandb/run-20230621_162437-cf8v2vou/logs</code>"
          },
          "metadata": {},
          "output_type": "display_data"
        },
        {
          "name": "stderr",
          "text": "\u001b[34m\u001b[1mwandb\u001b[0m: Agent Starting Run: c3l91zwn with config:\n\u001b[34m\u001b[1mwandb\u001b[0m: \tdiscount: 0.9\n\u001b[34m\u001b[1mwandb\u001b[0m: \tepsilon: 0.5\n\u001b[34m\u001b[1mwandb\u001b[0m: \tlearning_rate: 0.01\n\u001b[34m\u001b[1mwandb\u001b[0m: \tnum_states: 20\nFailed to detect the name of this notebook, you can set it manually with the WANDB_NOTEBOOK_NAME environment variable to enable code saving.\n",
          "output_type": "stream"
        },
        {
          "data": {
            "text/plain": "<IPython.core.display.HTML object>",
            "text/html": "Tracking run with wandb version 0.15.4"
          },
          "metadata": {},
          "output_type": "display_data"
        },
        {
          "data": {
            "text/plain": "<IPython.core.display.HTML object>",
            "text/html": "Run data is saved locally in <code>/work/wandb/run-20230621_165946-c3l91zwn</code>"
          },
          "metadata": {},
          "output_type": "display_data"
        },
        {
          "data": {
            "text/plain": "<IPython.core.display.HTML object>",
            "text/html": "Syncing run <strong><a href='https://wandb.ai/got-tree/mountain-car-v0/runs/c3l91zwn' target=\"_blank\">expert-sweep-4</a></strong> to <a href='https://wandb.ai/got-tree/mountain-car-v0' target=\"_blank\">Weights & Biases</a> (<a href='https://wandb.me/run' target=\"_blank\">docs</a>)<br/>Sweep page: <a href='https://wandb.ai/got-tree/mountain-car-v0/sweeps/gir0m6jz' target=\"_blank\">https://wandb.ai/got-tree/mountain-car-v0/sweeps/gir0m6jz</a>"
          },
          "metadata": {},
          "output_type": "display_data"
        },
        {
          "data": {
            "text/plain": "<IPython.core.display.HTML object>",
            "text/html": " View project at <a href='https://wandb.ai/got-tree/mountain-car-v0' target=\"_blank\">https://wandb.ai/got-tree/mountain-car-v0</a>"
          },
          "metadata": {},
          "output_type": "display_data"
        },
        {
          "data": {
            "text/plain": "<IPython.core.display.HTML object>",
            "text/html": " View sweep at <a href='https://wandb.ai/got-tree/mountain-car-v0/sweeps/gir0m6jz' target=\"_blank\">https://wandb.ai/got-tree/mountain-car-v0/sweeps/gir0m6jz</a>"
          },
          "metadata": {},
          "output_type": "display_data"
        },
        {
          "data": {
            "text/plain": "<IPython.core.display.HTML object>",
            "text/html": " View run at <a href='https://wandb.ai/got-tree/mountain-car-v0/runs/c3l91zwn' target=\"_blank\">https://wandb.ai/got-tree/mountain-car-v0/runs/c3l91zwn</a>"
          },
          "metadata": {},
          "output_type": "display_data"
        },
        {
          "name": "stderr",
          "text": "Training: 100%|██████████| 25000/25000 [13:36<00:00, 30.61episode/s]\n",
          "output_type": "stream"
        },
        {
          "data": {
            "text/plain": "<IPython.core.display.HTML object>",
            "text/html": "Waiting for W&B process to finish... <strong style=\"color:green\">(success).</strong>"
          },
          "metadata": {},
          "output_type": "display_data"
        },
        {
          "data": {
            "text/plain": "<IPython.core.display.HTML object>",
            "text/html": "<style>\n    table.wandb td:nth-child(1) { padding: 0 10px; text-align: left ; width: auto;} td:nth-child(2) {text-align: left ; width: 100%}\n    .wandb-row { display: flex; flex-direction: row; flex-wrap: wrap; justify-content: flex-start; width: 100% }\n    .wandb-col { display: flex; flex-direction: column; flex-basis: 100%; flex: 1; padding: 10px; }\n    </style>\n<div class=\"wandb-row\"><div class=\"wandb-col\"><h3>Run history:</h3><br/><table class=\"wandb\"><tr><td>avg_reward</td><td>▁▅▆▇▇▇▇▇▇▇▇▇█▇██████████████████████████</td></tr><tr><td>eps</td><td>▁▃▂▃▃▄▃▃▂▆▃▃▄▃▅▃▆▆▂▆█▅▄▅▆▄▃▂▃▃▃▂▄▃▁▂▄▄▃▂</td></tr><tr><td>epsilon</td><td>██▇▇▇▆▆▆▅▅▄▄▄▃▃▃▂▂▂▁▁▁▁▁▁▁▁▁▁▁▁▁▁▁▁▁▁▁▁▁</td></tr><tr><td>max_reward</td><td>▁▅▆▇▇▇▇▇▇▇▇█████████████████████████████</td></tr><tr><td>min_reward</td><td>▁▁▁▁▁▁▁▁▁▁▁▁▁▁▁▁▁▁▁▁▁▁▁▁▁▁▁▁▁▁▁▁▁▁▁▁▁▁▁▁</td></tr><tr><td>reward</td><td>▁▅▆▇▇▇▇▆▇█▇▇▇▇█▇▇██▇█████████▇█████▇████</td></tr><tr><td>steps</td><td>█▄▃▂▂▂▂▃▂▁▂▂▂▂▁▂▂▁▁▂▁▁▁▁▁▁▁▁▁▂▁▁▁▁▁▂▁▁▁▁</td></tr></table><br/></div><div class=\"wandb-col\"><h3>Run summary:</h3><br/><table class=\"wandb\"><tr><td>avg_reward</td><td>-147.75</td></tr><tr><td>eps</td><td>28.37171</td></tr><tr><td>epsilon</td><td>-4e-05</td></tr><tr><td>max_reward</td><td>-95.0</td></tr><tr><td>min_reward</td><td>-68856.0</td></tr><tr><td>reward</td><td>-145.0</td></tr><tr><td>steps</td><td>145</td></tr></table><br/></div></div>"
          },
          "metadata": {},
          "output_type": "display_data"
        },
        {
          "data": {
            "text/plain": "<IPython.core.display.HTML object>",
            "text/html": " View run <strong style=\"color:#cdcd00\">expert-sweep-4</strong> at: <a href='https://wandb.ai/got-tree/mountain-car-v0/runs/c3l91zwn' target=\"_blank\">https://wandb.ai/got-tree/mountain-car-v0/runs/c3l91zwn</a><br/>Synced 5 W&B file(s), 0 media file(s), 1 artifact file(s) and 0 other file(s)"
          },
          "metadata": {},
          "output_type": "display_data"
        },
        {
          "data": {
            "text/plain": "<IPython.core.display.HTML object>",
            "text/html": "Find logs at: <code>./wandb/run-20230621_165946-c3l91zwn/logs</code>"
          },
          "metadata": {},
          "output_type": "display_data"
        },
        {
          "name": "stderr",
          "text": "\u001b[34m\u001b[1mwandb\u001b[0m: Agent Starting Run: 8lsmijq6 with config:\n\u001b[34m\u001b[1mwandb\u001b[0m: \tdiscount: 0.9\n\u001b[34m\u001b[1mwandb\u001b[0m: \tepsilon: 0.5\n\u001b[34m\u001b[1mwandb\u001b[0m: \tlearning_rate: 0.1\n\u001b[34m\u001b[1mwandb\u001b[0m: \tnum_states: 10\nFailed to detect the name of this notebook, you can set it manually with the WANDB_NOTEBOOK_NAME environment variable to enable code saving.\n",
          "output_type": "stream"
        },
        {
          "data": {
            "text/plain": "<IPython.core.display.HTML object>",
            "text/html": "Tracking run with wandb version 0.15.4"
          },
          "metadata": {},
          "output_type": "display_data"
        },
        {
          "data": {
            "text/plain": "<IPython.core.display.HTML object>",
            "text/html": "Run data is saved locally in <code>/work/wandb/run-20230621_171336-8lsmijq6</code>"
          },
          "metadata": {},
          "output_type": "display_data"
        },
        {
          "data": {
            "text/plain": "<IPython.core.display.HTML object>",
            "text/html": "Syncing run <strong><a href='https://wandb.ai/got-tree/mountain-car-v0/runs/8lsmijq6' target=\"_blank\">firm-sweep-5</a></strong> to <a href='https://wandb.ai/got-tree/mountain-car-v0' target=\"_blank\">Weights & Biases</a> (<a href='https://wandb.me/run' target=\"_blank\">docs</a>)<br/>Sweep page: <a href='https://wandb.ai/got-tree/mountain-car-v0/sweeps/gir0m6jz' target=\"_blank\">https://wandb.ai/got-tree/mountain-car-v0/sweeps/gir0m6jz</a>"
          },
          "metadata": {},
          "output_type": "display_data"
        },
        {
          "data": {
            "text/plain": "<IPython.core.display.HTML object>",
            "text/html": " View project at <a href='https://wandb.ai/got-tree/mountain-car-v0' target=\"_blank\">https://wandb.ai/got-tree/mountain-car-v0</a>"
          },
          "metadata": {},
          "output_type": "display_data"
        },
        {
          "data": {
            "text/plain": "<IPython.core.display.HTML object>",
            "text/html": " View sweep at <a href='https://wandb.ai/got-tree/mountain-car-v0/sweeps/gir0m6jz' target=\"_blank\">https://wandb.ai/got-tree/mountain-car-v0/sweeps/gir0m6jz</a>"
          },
          "metadata": {},
          "output_type": "display_data"
        },
        {
          "data": {
            "text/plain": "<IPython.core.display.HTML object>",
            "text/html": " View run at <a href='https://wandb.ai/got-tree/mountain-car-v0/runs/8lsmijq6' target=\"_blank\">https://wandb.ai/got-tree/mountain-car-v0/runs/8lsmijq6</a>"
          },
          "metadata": {},
          "output_type": "display_data"
        },
        {
          "name": "stderr",
          "text": "Training: 100%|██████████| 25000/25000 [19:04<00:00, 21.85episode/s]\n",
          "output_type": "stream"
        },
        {
          "data": {
            "text/plain": "<IPython.core.display.HTML object>",
            "text/html": "Waiting for W&B process to finish... <strong style=\"color:green\">(success).</strong>"
          },
          "metadata": {},
          "output_type": "display_data"
        },
        {
          "data": {
            "text/plain": "<IPython.core.display.HTML object>",
            "text/html": "<style>\n    table.wandb td:nth-child(1) { padding: 0 10px; text-align: left ; width: auto;} td:nth-child(2) {text-align: left ; width: 100%}\n    .wandb-row { display: flex; flex-direction: row; flex-wrap: wrap; justify-content: flex-start; width: 100% }\n    .wandb-col { display: flex; flex-direction: column; flex-basis: 100%; flex: 1; padding: 10px; }\n    </style>\n<div class=\"wandb-row\"><div class=\"wandb-col\"><h3>Run history:</h3><br/><table class=\"wandb\"><tr><td>avg_reward</td><td>▂▂▂▂▁▂▃▄▅▆▅▅▇▆▇▆▇█▇▇████████████████████</td></tr><tr><td>eps</td><td>▁▁▁▃▂▃▁▁▁▂▄▃▆▁▃▃▅▄▄▁▆▇▅▆█▇▇▄▅▇█▄▆█▆▅▅▆▆█</td></tr><tr><td>epsilon</td><td>██▇▇▇▆▆▆▅▅▄▄▄▃▃▃▂▂▂▁▁▁▁▁▁▁▁▁▁▁▁▁▁▁▁▁▁▁▁▁</td></tr><tr><td>max_reward</td><td>▁▁▂▃▃▄▄▄▆▆▆▆▆▆▆▆▆▇▇▇████████████████████</td></tr><tr><td>min_reward</td><td>███▁▁▁▁▁▁▁▁▁▁▁▁▁▁▁▁▁▁▁▁▁▁▁▁▁▁▁▁▁▁▁▁▁▁▁▁▁</td></tr><tr><td>reward</td><td>▅▆▆█▇█▁▆▆████▇█████▇████████████████████</td></tr><tr><td>steps</td><td>▄▃▃▁▂▁█▃▃▁▁▁▁▂▁▁▁▁▁▂▁▁▁▁▁▁▁▁▁▁▁▁▁▁▁▁▁▁▁▁</td></tr></table><br/></div><div class=\"wandb-col\"><h3>Run summary:</h3><br/><table class=\"wandb\"><tr><td>avg_reward</td><td>-149.77</td></tr><tr><td>eps</td><td>97.50341</td></tr><tr><td>epsilon</td><td>-4e-05</td></tr><tr><td>max_reward</td><td>-90.0</td></tr><tr><td>min_reward</td><td>-15992.0</td></tr><tr><td>reward</td><td>-139.0</td></tr><tr><td>steps</td><td>139</td></tr></table><br/></div></div>"
          },
          "metadata": {},
          "output_type": "display_data"
        },
        {
          "data": {
            "text/plain": "<IPython.core.display.HTML object>",
            "text/html": " View run <strong style=\"color:#cdcd00\">firm-sweep-5</strong> at: <a href='https://wandb.ai/got-tree/mountain-car-v0/runs/8lsmijq6' target=\"_blank\">https://wandb.ai/got-tree/mountain-car-v0/runs/8lsmijq6</a><br/>Synced 5 W&B file(s), 0 media file(s), 1 artifact file(s) and 0 other file(s)"
          },
          "metadata": {},
          "output_type": "display_data"
        },
        {
          "data": {
            "text/plain": "<IPython.core.display.HTML object>",
            "text/html": "Find logs at: <code>./wandb/run-20230621_171336-8lsmijq6/logs</code>"
          },
          "metadata": {},
          "output_type": "display_data"
        },
        {
          "name": "stderr",
          "text": "\u001b[34m\u001b[1mwandb\u001b[0m: Agent Starting Run: efvleh5t with config:\n\u001b[34m\u001b[1mwandb\u001b[0m: \tdiscount: 0.9\n\u001b[34m\u001b[1mwandb\u001b[0m: \tepsilon: 0.5\n\u001b[34m\u001b[1mwandb\u001b[0m: \tlearning_rate: 0.01\n\u001b[34m\u001b[1mwandb\u001b[0m: \tnum_states: 40\nFailed to detect the name of this notebook, you can set it manually with the WANDB_NOTEBOOK_NAME environment variable to enable code saving.\n",
          "output_type": "stream"
        },
        {
          "data": {
            "text/plain": "<IPython.core.display.HTML object>",
            "text/html": "Tracking run with wandb version 0.15.4"
          },
          "metadata": {},
          "output_type": "display_data"
        },
        {
          "data": {
            "text/plain": "<IPython.core.display.HTML object>",
            "text/html": "Run data is saved locally in <code>/work/wandb/run-20230621_173304-efvleh5t</code>"
          },
          "metadata": {},
          "output_type": "display_data"
        },
        {
          "data": {
            "text/plain": "<IPython.core.display.HTML object>",
            "text/html": "Syncing run <strong><a href='https://wandb.ai/got-tree/mountain-car-v0/runs/efvleh5t' target=\"_blank\">fancy-sweep-6</a></strong> to <a href='https://wandb.ai/got-tree/mountain-car-v0' target=\"_blank\">Weights & Biases</a> (<a href='https://wandb.me/run' target=\"_blank\">docs</a>)<br/>Sweep page: <a href='https://wandb.ai/got-tree/mountain-car-v0/sweeps/gir0m6jz' target=\"_blank\">https://wandb.ai/got-tree/mountain-car-v0/sweeps/gir0m6jz</a>"
          },
          "metadata": {},
          "output_type": "display_data"
        },
        {
          "data": {
            "text/plain": "<IPython.core.display.HTML object>",
            "text/html": " View project at <a href='https://wandb.ai/got-tree/mountain-car-v0' target=\"_blank\">https://wandb.ai/got-tree/mountain-car-v0</a>"
          },
          "metadata": {},
          "output_type": "display_data"
        },
        {
          "data": {
            "text/plain": "<IPython.core.display.HTML object>",
            "text/html": " View sweep at <a href='https://wandb.ai/got-tree/mountain-car-v0/sweeps/gir0m6jz' target=\"_blank\">https://wandb.ai/got-tree/mountain-car-v0/sweeps/gir0m6jz</a>"
          },
          "metadata": {},
          "output_type": "display_data"
        },
        {
          "data": {
            "text/plain": "<IPython.core.display.HTML object>",
            "text/html": " View run at <a href='https://wandb.ai/got-tree/mountain-car-v0/runs/efvleh5t' target=\"_blank\">https://wandb.ai/got-tree/mountain-car-v0/runs/efvleh5t</a>"
          },
          "metadata": {},
          "output_type": "display_data"
        },
        {
          "name": "stderr",
          "text": "Training: 100%|██████████| 25000/25000 [18:01<00:00, 23.11episode/s]\n",
          "output_type": "stream"
        },
        {
          "data": {
            "text/plain": "<IPython.core.display.HTML object>",
            "text/html": "Waiting for W&B process to finish... <strong style=\"color:green\">(success).</strong>"
          },
          "metadata": {},
          "output_type": "display_data"
        },
        {
          "data": {
            "text/plain": "<IPython.core.display.HTML object>",
            "text/html": "<style>\n    table.wandb td:nth-child(1) { padding: 0 10px; text-align: left ; width: auto;} td:nth-child(2) {text-align: left ; width: 100%}\n    .wandb-row { display: flex; flex-direction: row; flex-wrap: wrap; justify-content: flex-start; width: 100% }\n    .wandb-col { display: flex; flex-direction: column; flex-basis: 100%; flex: 1; padding: 10px; }\n    </style>\n<div class=\"wandb-row\"><div class=\"wandb-col\"><h3>Run history:</h3><br/><table class=\"wandb\"><tr><td>avg_reward</td><td>▁▅▆▆▇▇▇▇▇▇▇▇██▇█▇█▇█████████████████████</td></tr><tr><td>eps</td><td>▁▂▂▁▁▂▂▂▂▂▂▁▂▂▂▂▂▂▁▄▃▃▁▄▂▂▂▅▅▂▅▃▃▄▃▃▆▄█▅</td></tr><tr><td>epsilon</td><td>██▇▇▇▆▆▆▅▅▄▄▄▃▃▃▂▂▂▁▁▁▁▁▁▁▁▁▁▁▁▁▁▁▁▁▁▁▁▁</td></tr><tr><td>max_reward</td><td>▁▄▅▅▆▇▇▇▇▇▇▇▇▇▇▇▇███████████████████████</td></tr><tr><td>min_reward</td><td>▁▁▁▁▁▁▁▁▁▁▁▁▁▁▁▁▁▁▁▁▁▁▁▁▁▁▁▁▁▁▁▁▁▁▁▁▁▁▁▁</td></tr><tr><td>reward</td><td>▁▄▅▅▅▆▆▇▅▇▆▆▆▇▆▆▆▇▅▇▇▇▇▇▇▇▇█▇▇▇▇█▇▇██▇██</td></tr><tr><td>steps</td><td>█▅▄▄▄▃▃▂▄▂▃▃▃▂▃▃▃▂▄▂▂▂▂▂▂▂▂▁▂▂▂▂▁▂▂▁▁▂▁▁</td></tr></table><br/></div><div class=\"wandb-col\"><h3>Run summary:</h3><br/><table class=\"wandb\"><tr><td>avg_reward</td><td>-210.7</td></tr><tr><td>eps</td><td>44.75213</td></tr><tr><td>epsilon</td><td>-4e-05</td></tr><tr><td>max_reward</td><td>-134.0</td></tr><tr><td>min_reward</td><td>-80008.0</td></tr><tr><td>reward</td><td>-242.0</td></tr><tr><td>steps</td><td>242</td></tr></table><br/></div></div>"
          },
          "metadata": {},
          "output_type": "display_data"
        },
        {
          "data": {
            "text/plain": "<IPython.core.display.HTML object>",
            "text/html": " View run <strong style=\"color:#cdcd00\">fancy-sweep-6</strong> at: <a href='https://wandb.ai/got-tree/mountain-car-v0/runs/efvleh5t' target=\"_blank\">https://wandb.ai/got-tree/mountain-car-v0/runs/efvleh5t</a><br/>Synced 5 W&B file(s), 0 media file(s), 1 artifact file(s) and 0 other file(s)"
          },
          "metadata": {},
          "output_type": "display_data"
        },
        {
          "data": {
            "text/plain": "<IPython.core.display.HTML object>",
            "text/html": "Find logs at: <code>./wandb/run-20230621_173304-efvleh5t/logs</code>"
          },
          "metadata": {},
          "output_type": "display_data"
        },
        {
          "name": "stderr",
          "text": "\u001b[34m\u001b[1mwandb\u001b[0m: Agent Starting Run: 2r0414fz with config:\n\u001b[34m\u001b[1mwandb\u001b[0m: \tdiscount: 0.99\n\u001b[34m\u001b[1mwandb\u001b[0m: \tepsilon: 0.8\n\u001b[34m\u001b[1mwandb\u001b[0m: \tlearning_rate: 0.1\n\u001b[34m\u001b[1mwandb\u001b[0m: \tnum_states: 10\nFailed to detect the name of this notebook, you can set it manually with the WANDB_NOTEBOOK_NAME environment variable to enable code saving.\n",
          "output_type": "stream"
        },
        {
          "data": {
            "text/plain": "<IPython.core.display.HTML object>",
            "text/html": "Tracking run with wandb version 0.15.4"
          },
          "metadata": {},
          "output_type": "display_data"
        },
        {
          "data": {
            "text/plain": "<IPython.core.display.HTML object>",
            "text/html": "Run data is saved locally in <code>/work/wandb/run-20230621_175115-2r0414fz</code>"
          },
          "metadata": {},
          "output_type": "display_data"
        },
        {
          "data": {
            "text/plain": "<IPython.core.display.HTML object>",
            "text/html": "Syncing run <strong><a href='https://wandb.ai/got-tree/mountain-car-v0/runs/2r0414fz' target=\"_blank\">major-sweep-7</a></strong> to <a href='https://wandb.ai/got-tree/mountain-car-v0' target=\"_blank\">Weights & Biases</a> (<a href='https://wandb.me/run' target=\"_blank\">docs</a>)<br/>Sweep page: <a href='https://wandb.ai/got-tree/mountain-car-v0/sweeps/gir0m6jz' target=\"_blank\">https://wandb.ai/got-tree/mountain-car-v0/sweeps/gir0m6jz</a>"
          },
          "metadata": {},
          "output_type": "display_data"
        },
        {
          "data": {
            "text/plain": "<IPython.core.display.HTML object>",
            "text/html": " View project at <a href='https://wandb.ai/got-tree/mountain-car-v0' target=\"_blank\">https://wandb.ai/got-tree/mountain-car-v0</a>"
          },
          "metadata": {},
          "output_type": "display_data"
        },
        {
          "data": {
            "text/plain": "<IPython.core.display.HTML object>",
            "text/html": " View sweep at <a href='https://wandb.ai/got-tree/mountain-car-v0/sweeps/gir0m6jz' target=\"_blank\">https://wandb.ai/got-tree/mountain-car-v0/sweeps/gir0m6jz</a>"
          },
          "metadata": {},
          "output_type": "display_data"
        },
        {
          "data": {
            "text/plain": "<IPython.core.display.HTML object>",
            "text/html": " View run at <a href='https://wandb.ai/got-tree/mountain-car-v0/runs/2r0414fz' target=\"_blank\">https://wandb.ai/got-tree/mountain-car-v0/runs/2r0414fz</a>"
          },
          "metadata": {},
          "output_type": "display_data"
        },
        {
          "name": "stderr",
          "text": "Training: 100%|██████████| 25000/25000 [24:04<00:00, 17.31episode/s]\n",
          "output_type": "stream"
        },
        {
          "data": {
            "text/plain": "<IPython.core.display.HTML object>",
            "text/html": "Waiting for W&B process to finish... <strong style=\"color:green\">(success).</strong>"
          },
          "metadata": {},
          "output_type": "display_data"
        },
        {
          "data": {
            "text/plain": "<IPython.core.display.HTML object>",
            "text/html": "<style>\n    table.wandb td:nth-child(1) { padding: 0 10px; text-align: left ; width: auto;} td:nth-child(2) {text-align: left ; width: 100%}\n    .wandb-row { display: flex; flex-direction: row; flex-wrap: wrap; justify-content: flex-start; width: 100% }\n    .wandb-col { display: flex; flex-direction: column; flex-basis: 100%; flex: 1; padding: 10px; }\n    </style>\n<div class=\"wandb-row\"><div class=\"wandb-col\"><h3>Run history:</h3><br/><table class=\"wandb\"><tr><td>avg_reward</td><td>▁▃▅▅▆▆▆▇▇▇▇█████████████████████████████</td></tr><tr><td>eps</td><td>▁▁▁▂▁▂▃▃▃▃▁▃▃▄▄▅▇▃▅▄▅█▃▇▅▅▄▆▄▆▅▃▅▆▇▄▇▅▇▂</td></tr><tr><td>epsilon</td><td>██▇▇▇▆▆▆▅▅▄▄▄▃▃▃▂▂▂▁▁▁▁▁▁▁▁▁▁▁▁▁▁▁▁▁▁▁▁▁</td></tr><tr><td>max_reward</td><td>▁▂▅▅▅▅▅▆▆▇▇▇▇███████████████████████████</td></tr><tr><td>min_reward</td><td>█▂▂▁▁▁▁▁▁▁▁▁▁▁▁▁▁▁▁▁▁▁▁▁▁▁▁▁▁▁▁▁▁▁▁▁▁▁▁▁</td></tr><tr><td>reward</td><td>▁▄▂▅▂▇▇▇█▇▃█▇███████████████████████████</td></tr><tr><td>steps</td><td>█▅▇▄▇▂▂▂▁▂▆▁▂▁▁▁▁▁▁▁▁▁▁▁▁▁▁▁▁▁▁▁▁▁▁▁▁▁▁▁</td></tr></table><br/></div><div class=\"wandb-col\"><h3>Run summary:</h3><br/><table class=\"wandb\"><tr><td>avg_reward</td><td>-160.84</td></tr><tr><td>eps</td><td>66.11867</td></tr><tr><td>epsilon</td><td>-6e-05</td></tr><tr><td>max_reward</td><td>-98.0</td></tr><tr><td>min_reward</td><td>-27567.0</td></tr><tr><td>reward</td><td>-166.0</td></tr><tr><td>steps</td><td>166</td></tr></table><br/></div></div>"
          },
          "metadata": {},
          "output_type": "display_data"
        },
        {
          "data": {
            "text/plain": "<IPython.core.display.HTML object>",
            "text/html": " View run <strong style=\"color:#cdcd00\">major-sweep-7</strong> at: <a href='https://wandb.ai/got-tree/mountain-car-v0/runs/2r0414fz' target=\"_blank\">https://wandb.ai/got-tree/mountain-car-v0/runs/2r0414fz</a><br/>Synced 5 W&B file(s), 0 media file(s), 1 artifact file(s) and 0 other file(s)"
          },
          "metadata": {},
          "output_type": "display_data"
        },
        {
          "data": {
            "text/plain": "<IPython.core.display.HTML object>",
            "text/html": "Find logs at: <code>./wandb/run-20230621_175115-2r0414fz/logs</code>"
          },
          "metadata": {},
          "output_type": "display_data"
        },
        {
          "name": "stderr",
          "text": "\u001b[34m\u001b[1mwandb\u001b[0m: Agent Starting Run: qu8inukf with config:\n\u001b[34m\u001b[1mwandb\u001b[0m: \tdiscount: 0.95\n\u001b[34m\u001b[1mwandb\u001b[0m: \tepsilon: 0.5\n\u001b[34m\u001b[1mwandb\u001b[0m: \tlearning_rate: 0.1\n\u001b[34m\u001b[1mwandb\u001b[0m: \tnum_states: 20\nFailed to detect the name of this notebook, you can set it manually with the WANDB_NOTEBOOK_NAME environment variable to enable code saving.\n",
          "output_type": "stream"
        },
        {
          "data": {
            "text/plain": "<IPython.core.display.HTML object>",
            "text/html": "Tracking run with wandb version 0.15.4"
          },
          "metadata": {},
          "output_type": "display_data"
        },
        {
          "data": {
            "text/plain": "<IPython.core.display.HTML object>",
            "text/html": "Run data is saved locally in <code>/work/wandb/run-20230621_181530-qu8inukf</code>"
          },
          "metadata": {},
          "output_type": "display_data"
        },
        {
          "data": {
            "text/plain": "<IPython.core.display.HTML object>",
            "text/html": "Syncing run <strong><a href='https://wandb.ai/got-tree/mountain-car-v0/runs/qu8inukf' target=\"_blank\">fine-sweep-8</a></strong> to <a href='https://wandb.ai/got-tree/mountain-car-v0' target=\"_blank\">Weights & Biases</a> (<a href='https://wandb.me/run' target=\"_blank\">docs</a>)<br/>Sweep page: <a href='https://wandb.ai/got-tree/mountain-car-v0/sweeps/gir0m6jz' target=\"_blank\">https://wandb.ai/got-tree/mountain-car-v0/sweeps/gir0m6jz</a>"
          },
          "metadata": {},
          "output_type": "display_data"
        },
        {
          "data": {
            "text/plain": "<IPython.core.display.HTML object>",
            "text/html": " View project at <a href='https://wandb.ai/got-tree/mountain-car-v0' target=\"_blank\">https://wandb.ai/got-tree/mountain-car-v0</a>"
          },
          "metadata": {},
          "output_type": "display_data"
        },
        {
          "data": {
            "text/plain": "<IPython.core.display.HTML object>",
            "text/html": " View sweep at <a href='https://wandb.ai/got-tree/mountain-car-v0/sweeps/gir0m6jz' target=\"_blank\">https://wandb.ai/got-tree/mountain-car-v0/sweeps/gir0m6jz</a>"
          },
          "metadata": {},
          "output_type": "display_data"
        },
        {
          "data": {
            "text/plain": "<IPython.core.display.HTML object>",
            "text/html": " View run at <a href='https://wandb.ai/got-tree/mountain-car-v0/runs/qu8inukf' target=\"_blank\">https://wandb.ai/got-tree/mountain-car-v0/runs/qu8inukf</a>"
          },
          "metadata": {},
          "output_type": "display_data"
        },
        {
          "name": "stderr",
          "text": "Training: 100%|██████████| 25000/25000 [10:03<00:00, 41.40episode/s]\n",
          "output_type": "stream"
        },
        {
          "data": {
            "text/plain": "<IPython.core.display.HTML object>",
            "text/html": "Waiting for W&B process to finish... <strong style=\"color:green\">(success).</strong>"
          },
          "metadata": {},
          "output_type": "display_data"
        },
        {
          "data": {
            "text/plain": "<IPython.core.display.HTML object>",
            "text/html": "<style>\n    table.wandb td:nth-child(1) { padding: 0 10px; text-align: left ; width: auto;} td:nth-child(2) {text-align: left ; width: 100%}\n    .wandb-row { display: flex; flex-direction: row; flex-wrap: wrap; justify-content: flex-start; width: 100% }\n    .wandb-col { display: flex; flex-direction: column; flex-basis: 100%; flex: 1; padding: 10px; }\n    </style>\n<div class=\"wandb-row\"><div class=\"wandb-col\"><h3>Run history:</h3><br/><table class=\"wandb\"><tr><td>avg_reward</td><td>▁▃▄▅▄▅▅▄▆▅▆▆▆▆▆▆▇▇▇▇█▇▇▇████████████████</td></tr><tr><td>eps</td><td>▁▁▃▁▃▂▂▁▂▂▄▃▂▅▂▂▃▄▃▂▃▁▂▆▆▅▆█▅▆▆▆▃▆▅▂▁▅▃▃</td></tr><tr><td>epsilon</td><td>██▇▇▇▆▆▆▅▅▄▄▄▃▃▃▂▂▂▁▁▁▁▁▁▁▁▁▁▁▁▁▁▁▁▁▁▁▁▁</td></tr><tr><td>max_reward</td><td>▁▃▄▅▅▅▅▆▆▆▆▆▆▆▆▇▇▇▇▇▇▇▇▇████████████████</td></tr><tr><td>min_reward</td><td>▁▁▁▁▁▁▁▁▁▁▁▁▁▁▁▁▁▁▁▁▁▁▁▁▁▁▁▁▁▁▁▁▁▁▁▁▁▁▁▁</td></tr><tr><td>reward</td><td>▁▁▅▄▅▄▄▃▆▅▇▅▅▇▅▇▆▆▆▇▇▇▇▇█▇██▇█████▇▇▇▇█▇</td></tr><tr><td>steps</td><td>██▄▅▄▅▅▆▃▄▂▄▄▂▄▂▃▃▃▂▂▂▂▂▁▂▁▁▂▁▁▁▁▁▂▂▂▂▁▂</td></tr></table><br/></div><div class=\"wandb-col\"><h3>Run summary:</h3><br/><table class=\"wandb\"><tr><td>avg_reward</td><td>-132.0</td></tr><tr><td>eps</td><td>48.66742</td></tr><tr><td>epsilon</td><td>-4e-05</td></tr><tr><td>max_reward</td><td>-94.0</td></tr><tr><td>min_reward</td><td>-15390.0</td></tr><tr><td>reward</td><td>-155.0</td></tr><tr><td>steps</td><td>155</td></tr></table><br/></div></div>"
          },
          "metadata": {},
          "output_type": "display_data"
        },
        {
          "data": {
            "text/plain": "<IPython.core.display.HTML object>",
            "text/html": " View run <strong style=\"color:#cdcd00\">fine-sweep-8</strong> at: <a href='https://wandb.ai/got-tree/mountain-car-v0/runs/qu8inukf' target=\"_blank\">https://wandb.ai/got-tree/mountain-car-v0/runs/qu8inukf</a><br/>Synced 5 W&B file(s), 0 media file(s), 1 artifact file(s) and 0 other file(s)"
          },
          "metadata": {},
          "output_type": "display_data"
        },
        {
          "data": {
            "text/plain": "<IPython.core.display.HTML object>",
            "text/html": "Find logs at: <code>./wandb/run-20230621_181530-qu8inukf/logs</code>"
          },
          "metadata": {},
          "output_type": "display_data"
        },
        {
          "name": "stderr",
          "text": "\u001b[34m\u001b[1mwandb\u001b[0m: Agent Starting Run: i5c7eqnh with config:\n\u001b[34m\u001b[1mwandb\u001b[0m: \tdiscount: 0.9\n\u001b[34m\u001b[1mwandb\u001b[0m: \tepsilon: 0.8\n\u001b[34m\u001b[1mwandb\u001b[0m: \tlearning_rate: 0.1\n\u001b[34m\u001b[1mwandb\u001b[0m: \tnum_states: 20\nFailed to detect the name of this notebook, you can set it manually with the WANDB_NOTEBOOK_NAME environment variable to enable code saving.\n",
          "output_type": "stream"
        },
        {
          "data": {
            "text/plain": "<IPython.core.display.HTML object>",
            "text/html": "Tracking run with wandb version 0.15.4"
          },
          "metadata": {},
          "output_type": "display_data"
        },
        {
          "data": {
            "text/plain": "<IPython.core.display.HTML object>",
            "text/html": "Run data is saved locally in <code>/work/wandb/run-20230621_182545-i5c7eqnh</code>"
          },
          "metadata": {},
          "output_type": "display_data"
        },
        {
          "data": {
            "text/plain": "<IPython.core.display.HTML object>",
            "text/html": "Syncing run <strong><a href='https://wandb.ai/got-tree/mountain-car-v0/runs/i5c7eqnh' target=\"_blank\">dashing-sweep-9</a></strong> to <a href='https://wandb.ai/got-tree/mountain-car-v0' target=\"_blank\">Weights & Biases</a> (<a href='https://wandb.me/run' target=\"_blank\">docs</a>)<br/>Sweep page: <a href='https://wandb.ai/got-tree/mountain-car-v0/sweeps/gir0m6jz' target=\"_blank\">https://wandb.ai/got-tree/mountain-car-v0/sweeps/gir0m6jz</a>"
          },
          "metadata": {},
          "output_type": "display_data"
        },
        {
          "data": {
            "text/plain": "<IPython.core.display.HTML object>",
            "text/html": " View project at <a href='https://wandb.ai/got-tree/mountain-car-v0' target=\"_blank\">https://wandb.ai/got-tree/mountain-car-v0</a>"
          },
          "metadata": {},
          "output_type": "display_data"
        },
        {
          "data": {
            "text/plain": "<IPython.core.display.HTML object>",
            "text/html": " View sweep at <a href='https://wandb.ai/got-tree/mountain-car-v0/sweeps/gir0m6jz' target=\"_blank\">https://wandb.ai/got-tree/mountain-car-v0/sweeps/gir0m6jz</a>"
          },
          "metadata": {},
          "output_type": "display_data"
        },
        {
          "data": {
            "text/plain": "<IPython.core.display.HTML object>",
            "text/html": " View run at <a href='https://wandb.ai/got-tree/mountain-car-v0/runs/i5c7eqnh' target=\"_blank\">https://wandb.ai/got-tree/mountain-car-v0/runs/i5c7eqnh</a>"
          },
          "metadata": {},
          "output_type": "display_data"
        },
        {
          "name": "stderr",
          "text": "Training: 100%|██████████| 25000/25000 [15:02<00:00, 27.69episode/s]\n",
          "output_type": "stream"
        },
        {
          "data": {
            "text/plain": "<IPython.core.display.HTML object>",
            "text/html": "Waiting for W&B process to finish... <strong style=\"color:green\">(success).</strong>"
          },
          "metadata": {},
          "output_type": "display_data"
        },
        {
          "data": {
            "text/plain": "<IPython.core.display.HTML object>",
            "text/html": "<style>\n    table.wandb td:nth-child(1) { padding: 0 10px; text-align: left ; width: auto;} td:nth-child(2) {text-align: left ; width: 100%}\n    .wandb-row { display: flex; flex-direction: row; flex-wrap: wrap; justify-content: flex-start; width: 100% }\n    .wandb-col { display: flex; flex-direction: column; flex-basis: 100%; flex: 1; padding: 10px; }\n    </style>\n<div class=\"wandb-row\"><div class=\"wandb-col\"><h3>Run history:</h3><br/><table class=\"wandb\"><tr><td>avg_reward</td><td>▁▂▂▃▄▆▆▇▇▇▇▇▇▇▇▇▇███████████████████████</td></tr><tr><td>eps</td><td>▂▁▂▂▂▂▄▄▄▃▃▃▃▃▅▂▅▃▅▃▄▆▅▅▄▆▂▆█▅▇▆▇▆▅▆▇▅█▄</td></tr><tr><td>epsilon</td><td>██▇▇▇▆▆▆▅▅▄▄▄▃▃▃▂▂▂▁▁▁▁▁▁▁▁▁▁▁▁▁▁▁▁▁▁▁▁▁</td></tr><tr><td>max_reward</td><td>▁▃▃▃▅▅▅▆▆▆▆▇▇▇▇▇▇▇▇▇▇███████████████████</td></tr><tr><td>min_reward</td><td>▁▁▁▁▁▁▁▁▁▁▁▁▁▁▁▁▁▁▁▁▁▁▁▁▁▁▁▁▁▁▁▁▁▁▁▁▁▁▁▁</td></tr><tr><td>reward</td><td>▆▁▅▇▆▇▇▇▇▇█▇█▇█▇████████████████████████</td></tr><tr><td>steps</td><td>▃█▄▂▃▂▂▂▂▂▁▂▁▂▁▂▁▁▁▁▁▁▁▁▁▁▁▁▁▁▁▁▁▁▁▁▁▁▁▁</td></tr></table><br/></div><div class=\"wandb-col\"><h3>Run summary:</h3><br/><table class=\"wandb\"><tr><td>avg_reward</td><td>-148.49</td></tr><tr><td>eps</td><td>49.32792</td></tr><tr><td>epsilon</td><td>-6e-05</td></tr><tr><td>max_reward</td><td>-108.0</td></tr><tr><td>min_reward</td><td>-26563.0</td></tr><tr><td>reward</td><td>-145.0</td></tr><tr><td>steps</td><td>145</td></tr></table><br/></div></div>"
          },
          "metadata": {},
          "output_type": "display_data"
        },
        {
          "data": {
            "text/plain": "<IPython.core.display.HTML object>",
            "text/html": " View run <strong style=\"color:#cdcd00\">dashing-sweep-9</strong> at: <a href='https://wandb.ai/got-tree/mountain-car-v0/runs/i5c7eqnh' target=\"_blank\">https://wandb.ai/got-tree/mountain-car-v0/runs/i5c7eqnh</a><br/>Synced 5 W&B file(s), 0 media file(s), 1 artifact file(s) and 0 other file(s)"
          },
          "metadata": {},
          "output_type": "display_data"
        },
        {
          "data": {
            "text/plain": "<IPython.core.display.HTML object>",
            "text/html": "Find logs at: <code>./wandb/run-20230621_182545-i5c7eqnh/logs</code>"
          },
          "metadata": {},
          "output_type": "display_data"
        },
        {
          "name": "stderr",
          "text": "\u001b[34m\u001b[1mwandb\u001b[0m: Agent Starting Run: q4phesfq with config:\n\u001b[34m\u001b[1mwandb\u001b[0m: \tdiscount: 0.99\n\u001b[34m\u001b[1mwandb\u001b[0m: \tepsilon: 0.9\n\u001b[34m\u001b[1mwandb\u001b[0m: \tlearning_rate: 0.1\n\u001b[34m\u001b[1mwandb\u001b[0m: \tnum_states: 40\nFailed to detect the name of this notebook, you can set it manually with the WANDB_NOTEBOOK_NAME environment variable to enable code saving.\n",
          "output_type": "stream"
        },
        {
          "data": {
            "text/plain": "<IPython.core.display.HTML object>",
            "text/html": "Tracking run with wandb version 0.15.4"
          },
          "metadata": {},
          "output_type": "display_data"
        },
        {
          "data": {
            "text/plain": "<IPython.core.display.HTML object>",
            "text/html": "Run data is saved locally in <code>/work/wandb/run-20230621_184058-q4phesfq</code>"
          },
          "metadata": {},
          "output_type": "display_data"
        },
        {
          "data": {
            "text/plain": "<IPython.core.display.HTML object>",
            "text/html": "Syncing run <strong><a href='https://wandb.ai/got-tree/mountain-car-v0/runs/q4phesfq' target=\"_blank\">rural-sweep-10</a></strong> to <a href='https://wandb.ai/got-tree/mountain-car-v0' target=\"_blank\">Weights & Biases</a> (<a href='https://wandb.me/run' target=\"_blank\">docs</a>)<br/>Sweep page: <a href='https://wandb.ai/got-tree/mountain-car-v0/sweeps/gir0m6jz' target=\"_blank\">https://wandb.ai/got-tree/mountain-car-v0/sweeps/gir0m6jz</a>"
          },
          "metadata": {},
          "output_type": "display_data"
        },
        {
          "data": {
            "text/plain": "<IPython.core.display.HTML object>",
            "text/html": " View project at <a href='https://wandb.ai/got-tree/mountain-car-v0' target=\"_blank\">https://wandb.ai/got-tree/mountain-car-v0</a>"
          },
          "metadata": {},
          "output_type": "display_data"
        },
        {
          "data": {
            "text/plain": "<IPython.core.display.HTML object>",
            "text/html": " View sweep at <a href='https://wandb.ai/got-tree/mountain-car-v0/sweeps/gir0m6jz' target=\"_blank\">https://wandb.ai/got-tree/mountain-car-v0/sweeps/gir0m6jz</a>"
          },
          "metadata": {},
          "output_type": "display_data"
        },
        {
          "data": {
            "text/plain": "<IPython.core.display.HTML object>",
            "text/html": " View run at <a href='https://wandb.ai/got-tree/mountain-car-v0/runs/q4phesfq' target=\"_blank\">https://wandb.ai/got-tree/mountain-car-v0/runs/q4phesfq</a>"
          },
          "metadata": {},
          "output_type": "display_data"
        },
        {
          "name": "stderr",
          "text": "Training: 100%|██████████| 25000/25000 [12:31<00:00, 33.26episode/s]\n",
          "output_type": "stream"
        },
        {
          "data": {
            "text/plain": "<IPython.core.display.HTML object>",
            "text/html": "Waiting for W&B process to finish... <strong style=\"color:green\">(success).</strong>"
          },
          "metadata": {},
          "output_type": "display_data"
        },
        {
          "data": {
            "text/plain": "<IPython.core.display.HTML object>",
            "text/html": "<style>\n    table.wandb td:nth-child(1) { padding: 0 10px; text-align: left ; width: auto;} td:nth-child(2) {text-align: left ; width: 100%}\n    .wandb-row { display: flex; flex-direction: row; flex-wrap: wrap; justify-content: flex-start; width: 100% }\n    .wandb-col { display: flex; flex-direction: column; flex-basis: 100%; flex: 1; padding: 10px; }\n    </style>\n<div class=\"wandb-row\"><div class=\"wandb-col\"><h3>Run history:</h3><br/><table class=\"wandb\"><tr><td>avg_reward</td><td>▁▅▆▇▇▇▇█████████████████████████████████</td></tr><tr><td>eps</td><td>▁▂▁▂▂▃▂▃▄▃▅▅▅▆▂▅▆▅█▃▄▅▆▅▅▆▆▅▄█▅▅▇▆██▅▅▅█</td></tr><tr><td>epsilon</td><td>██▇▇▇▆▆▆▅▅▄▄▄▃▃▃▂▂▂▁▁▁▁▁▁▁▁▁▁▁▁▁▁▁▁▁▁▁▁▁</td></tr><tr><td>max_reward</td><td>▁▂▃▅▅▇▇▇▇▇██████████████████████████████</td></tr><tr><td>min_reward</td><td>▁▁▁▁▁▁▁▁▁▁▁▁▁▁▁▁▁▁▁▁▁▁▁▁▁▁▁▁▁▁▁▁▁▁▁▁▁▁▁▁</td></tr><tr><td>reward</td><td>▁▆▃▄▆▇▇▇▇▇████▇▇████████████████████████</td></tr><tr><td>steps</td><td>█▃▆▅▃▂▂▂▂▂▁▁▁▁▂▂▁▁▁▁▁▁▁▁▁▁▁▁▁▁▁▁▁▁▁▁▁▁▁▁</td></tr></table><br/></div><div class=\"wandb-col\"><h3>Run summary:</h3><br/><table class=\"wandb\"><tr><td>avg_reward</td><td>-118.95</td></tr><tr><td>eps</td><td>62.94824</td></tr><tr><td>epsilon</td><td>-7e-05</td></tr><tr><td>max_reward</td><td>-106.0</td></tr><tr><td>min_reward</td><td>-47361.0</td></tr><tr><td>reward</td><td>-111.0</td></tr><tr><td>steps</td><td>111</td></tr></table><br/></div></div>"
          },
          "metadata": {},
          "output_type": "display_data"
        },
        {
          "data": {
            "text/plain": "<IPython.core.display.HTML object>",
            "text/html": " View run <strong style=\"color:#cdcd00\">rural-sweep-10</strong> at: <a href='https://wandb.ai/got-tree/mountain-car-v0/runs/q4phesfq' target=\"_blank\">https://wandb.ai/got-tree/mountain-car-v0/runs/q4phesfq</a><br/>Synced 5 W&B file(s), 0 media file(s), 1 artifact file(s) and 0 other file(s)"
          },
          "metadata": {},
          "output_type": "display_data"
        },
        {
          "data": {
            "text/plain": "<IPython.core.display.HTML object>",
            "text/html": "Find logs at: <code>./wandb/run-20230621_184058-q4phesfq/logs</code>"
          },
          "metadata": {},
          "output_type": "display_data"
        },
        {
          "name": "stderr",
          "text": "\u001b[34m\u001b[1mwandb\u001b[0m: Agent Starting Run: o4gkq4f2 with config:\n\u001b[34m\u001b[1mwandb\u001b[0m: \tdiscount: 0.9\n\u001b[34m\u001b[1mwandb\u001b[0m: \tepsilon: 0.8\n\u001b[34m\u001b[1mwandb\u001b[0m: \tlearning_rate: 0.001\n\u001b[34m\u001b[1mwandb\u001b[0m: \tnum_states: 10\nFailed to detect the name of this notebook, you can set it manually with the WANDB_NOTEBOOK_NAME environment variable to enable code saving.\n",
          "output_type": "stream"
        },
        {
          "data": {
            "text/plain": "<IPython.core.display.HTML object>",
            "text/html": "Tracking run with wandb version 0.15.4"
          },
          "metadata": {},
          "output_type": "display_data"
        },
        {
          "data": {
            "text/plain": "<IPython.core.display.HTML object>",
            "text/html": "Run data is saved locally in <code>/work/wandb/run-20230621_185347-o4gkq4f2</code>"
          },
          "metadata": {},
          "output_type": "display_data"
        },
        {
          "data": {
            "text/plain": "<IPython.core.display.HTML object>",
            "text/html": "Syncing run <strong><a href='https://wandb.ai/got-tree/mountain-car-v0/runs/o4gkq4f2' target=\"_blank\">smart-sweep-11</a></strong> to <a href='https://wandb.ai/got-tree/mountain-car-v0' target=\"_blank\">Weights & Biases</a> (<a href='https://wandb.me/run' target=\"_blank\">docs</a>)<br/>Sweep page: <a href='https://wandb.ai/got-tree/mountain-car-v0/sweeps/gir0m6jz' target=\"_blank\">https://wandb.ai/got-tree/mountain-car-v0/sweeps/gir0m6jz</a>"
          },
          "metadata": {},
          "output_type": "display_data"
        },
        {
          "data": {
            "text/plain": "<IPython.core.display.HTML object>",
            "text/html": " View project at <a href='https://wandb.ai/got-tree/mountain-car-v0' target=\"_blank\">https://wandb.ai/got-tree/mountain-car-v0</a>"
          },
          "metadata": {},
          "output_type": "display_data"
        },
        {
          "data": {
            "text/plain": "<IPython.core.display.HTML object>",
            "text/html": " View sweep at <a href='https://wandb.ai/got-tree/mountain-car-v0/sweeps/gir0m6jz' target=\"_blank\">https://wandb.ai/got-tree/mountain-car-v0/sweeps/gir0m6jz</a>"
          },
          "metadata": {},
          "output_type": "display_data"
        },
        {
          "data": {
            "text/plain": "<IPython.core.display.HTML object>",
            "text/html": " View run at <a href='https://wandb.ai/got-tree/mountain-car-v0/runs/o4gkq4f2' target=\"_blank\">https://wandb.ai/got-tree/mountain-car-v0/runs/o4gkq4f2</a>"
          },
          "metadata": {},
          "output_type": "display_data"
        },
        {
          "name": "stderr",
          "text": "Training: 100%|██████████| 25000/25000 [15:34<00:00, 26.75episode/s]\n",
          "output_type": "stream"
        },
        {
          "data": {
            "text/plain": "<IPython.core.display.HTML object>",
            "text/html": "Waiting for W&B process to finish... <strong style=\"color:green\">(success).</strong>"
          },
          "metadata": {},
          "output_type": "display_data"
        },
        {
          "data": {
            "text/plain": "<IPython.core.display.HTML object>",
            "text/html": "<style>\n    table.wandb td:nth-child(1) { padding: 0 10px; text-align: left ; width: auto;} td:nth-child(2) {text-align: left ; width: 100%}\n    .wandb-row { display: flex; flex-direction: row; flex-wrap: wrap; justify-content: flex-start; width: 100% }\n    .wandb-col { display: flex; flex-direction: column; flex-basis: 100%; flex: 1; padding: 10px; }\n    </style>\n<div class=\"wandb-row\"><div class=\"wandb-col\"><h3>Run history:</h3><br/><table class=\"wandb\"><tr><td>avg_reward</td><td>▁▅▆▇▇▇▇█████████████████████████████████</td></tr><tr><td>eps</td><td>▂▁▂▃▂▂▃▄▅▃▅▄▄▅▅▃██▄█▃▇▅▃█▆▆▄▆▄▇▆▆▆▅▆▃▃▅▅</td></tr><tr><td>epsilon</td><td>██▇▇▇▆▆▆▅▅▄▄▄▃▃▃▂▂▂▁▁▁▁▁▁▁▁▁▁▁▁▁▁▁▁▁▁▁▁▁</td></tr><tr><td>max_reward</td><td>▁▅▆▇▇▇▇▇▇▇▇█████████████████████████████</td></tr><tr><td>min_reward</td><td>▁▁▁▁▁▁▁▁▁▁▁▁▁▁▁▁▁▁▁▁▁▁▁▁▁▁▁▁▁▁▁▁▁▁▁▁▁▁▁▁</td></tr><tr><td>reward</td><td>▅▁▆▇▆▆▇▇████████████████████████████████</td></tr><tr><td>steps</td><td>▄█▃▂▃▃▂▂▁▁▁▁▁▁▁▁▁▁▁▁▁▁▁▁▁▁▁▁▁▁▁▁▁▁▁▁▁▁▁▁</td></tr></table><br/></div><div class=\"wandb-col\"><h3>Run summary:</h3><br/><table class=\"wandb\"><tr><td>avg_reward</td><td>-157.38</td></tr><tr><td>eps</td><td>85.59629</td></tr><tr><td>epsilon</td><td>-6e-05</td></tr><tr><td>max_reward</td><td>-91.0</td></tr><tr><td>min_reward</td><td>-71858.0</td></tr><tr><td>reward</td><td>-155.0</td></tr><tr><td>steps</td><td>155</td></tr></table><br/></div></div>"
          },
          "metadata": {},
          "output_type": "display_data"
        },
        {
          "data": {
            "text/plain": "<IPython.core.display.HTML object>",
            "text/html": " View run <strong style=\"color:#cdcd00\">smart-sweep-11</strong> at: <a href='https://wandb.ai/got-tree/mountain-car-v0/runs/o4gkq4f2' target=\"_blank\">https://wandb.ai/got-tree/mountain-car-v0/runs/o4gkq4f2</a><br/>Synced 5 W&B file(s), 0 media file(s), 1 artifact file(s) and 0 other file(s)"
          },
          "metadata": {},
          "output_type": "display_data"
        },
        {
          "data": {
            "text/plain": "<IPython.core.display.HTML object>",
            "text/html": "Find logs at: <code>./wandb/run-20230621_185347-o4gkq4f2/logs</code>"
          },
          "metadata": {},
          "output_type": "display_data"
        },
        {
          "name": "stderr",
          "text": "\u001b[34m\u001b[1mwandb\u001b[0m: Agent Starting Run: w83kvyo5 with config:\n\u001b[34m\u001b[1mwandb\u001b[0m: \tdiscount: 0.99\n\u001b[34m\u001b[1mwandb\u001b[0m: \tepsilon: 0.8\n\u001b[34m\u001b[1mwandb\u001b[0m: \tlearning_rate: 0.01\n\u001b[34m\u001b[1mwandb\u001b[0m: \tnum_states: 10\nFailed to detect the name of this notebook, you can set it manually with the WANDB_NOTEBOOK_NAME environment variable to enable code saving.\n",
          "output_type": "stream"
        },
        {
          "data": {
            "text/plain": "<IPython.core.display.HTML object>",
            "text/html": "Tracking run with wandb version 0.15.4"
          },
          "metadata": {},
          "output_type": "display_data"
        },
        {
          "data": {
            "text/plain": "<IPython.core.display.HTML object>",
            "text/html": "Run data is saved locally in <code>/work/wandb/run-20230621_190933-w83kvyo5</code>"
          },
          "metadata": {},
          "output_type": "display_data"
        },
        {
          "data": {
            "text/plain": "<IPython.core.display.HTML object>",
            "text/html": "Syncing run <strong><a href='https://wandb.ai/got-tree/mountain-car-v0/runs/w83kvyo5' target=\"_blank\">happy-sweep-12</a></strong> to <a href='https://wandb.ai/got-tree/mountain-car-v0' target=\"_blank\">Weights & Biases</a> (<a href='https://wandb.me/run' target=\"_blank\">docs</a>)<br/>Sweep page: <a href='https://wandb.ai/got-tree/mountain-car-v0/sweeps/gir0m6jz' target=\"_blank\">https://wandb.ai/got-tree/mountain-car-v0/sweeps/gir0m6jz</a>"
          },
          "metadata": {},
          "output_type": "display_data"
        },
        {
          "data": {
            "text/plain": "<IPython.core.display.HTML object>",
            "text/html": " View project at <a href='https://wandb.ai/got-tree/mountain-car-v0' target=\"_blank\">https://wandb.ai/got-tree/mountain-car-v0</a>"
          },
          "metadata": {},
          "output_type": "display_data"
        },
        {
          "data": {
            "text/plain": "<IPython.core.display.HTML object>",
            "text/html": " View sweep at <a href='https://wandb.ai/got-tree/mountain-car-v0/sweeps/gir0m6jz' target=\"_blank\">https://wandb.ai/got-tree/mountain-car-v0/sweeps/gir0m6jz</a>"
          },
          "metadata": {},
          "output_type": "display_data"
        },
        {
          "data": {
            "text/plain": "<IPython.core.display.HTML object>",
            "text/html": " View run at <a href='https://wandb.ai/got-tree/mountain-car-v0/runs/w83kvyo5' target=\"_blank\">https://wandb.ai/got-tree/mountain-car-v0/runs/w83kvyo5</a>"
          },
          "metadata": {},
          "output_type": "display_data"
        },
        {
          "name": "stderr",
          "text": "Training: 100%|██████████| 25000/25000 [11:05<00:00, 37.59episode/s]\n",
          "output_type": "stream"
        },
        {
          "data": {
            "text/plain": "<IPython.core.display.HTML object>",
            "text/html": "Waiting for W&B process to finish... <strong style=\"color:green\">(success).</strong>"
          },
          "metadata": {},
          "output_type": "display_data"
        },
        {
          "data": {
            "text/plain": "<IPython.core.display.HTML object>",
            "text/html": "<style>\n    table.wandb td:nth-child(1) { padding: 0 10px; text-align: left ; width: auto;} td:nth-child(2) {text-align: left ; width: 100%}\n    .wandb-row { display: flex; flex-direction: row; flex-wrap: wrap; justify-content: flex-start; width: 100% }\n    .wandb-col { display: flex; flex-direction: column; flex-basis: 100%; flex: 1; padding: 10px; }\n    </style>\n<div class=\"wandb-row\"><div class=\"wandb-col\"><h3>Run history:</h3><br/><table class=\"wandb\"><tr><td>avg_reward</td><td>▁▅▆▇▇▇▇█████████████████████████████████</td></tr><tr><td>eps</td><td>▁▁▃▂▁▂▄▄▂▃▄▃▂▅▅▅▄▂▅▄▄▃▅▇▃▆▂▅▅▃█▂▄▅▅▂▅▅▅▆</td></tr><tr><td>epsilon</td><td>██▇▇▇▆▆▆▅▅▄▄▄▃▃▃▂▂▂▁▁▁▁▁▁▁▁▁▁▁▁▁▁▁▁▁▁▁▁▁</td></tr><tr><td>max_reward</td><td>▁▄▅▅▆▇▇▇▇▇▇▇▇▇▇█████████████████████████</td></tr><tr><td>min_reward</td><td>▁▁▁▁▁▁▁▁▁▁▁▁▁▁▁▁▁▁▁▁▁▁▁▁▁▁▁▁▁▁▁▁▁▁▁▁▁▁▁▁</td></tr><tr><td>reward</td><td>▂▁▆▅▄▆▇▇▆▇▇▇▆▇▇█▇▇▇███▇█▇█▇▇▇██▇▇▇███▇▇█</td></tr><tr><td>steps</td><td>▇█▃▄▅▃▂▂▃▂▂▂▃▂▂▁▂▂▂▁▁▁▂▁▂▁▂▂▂▁▁▂▂▂▁▁▁▂▂▁</td></tr></table><br/></div><div class=\"wandb-col\"><h3>Run summary:</h3><br/><table class=\"wandb\"><tr><td>avg_reward</td><td>-146.66</td></tr><tr><td>eps</td><td>86.46623</td></tr><tr><td>epsilon</td><td>-6e-05</td></tr><tr><td>max_reward</td><td>-83.0</td></tr><tr><td>min_reward</td><td>-34134.0</td></tr><tr><td>reward</td><td>-135.0</td></tr><tr><td>steps</td><td>135</td></tr></table><br/></div></div>"
          },
          "metadata": {},
          "output_type": "display_data"
        },
        {
          "data": {
            "text/plain": "<IPython.core.display.HTML object>",
            "text/html": " View run <strong style=\"color:#cdcd00\">happy-sweep-12</strong> at: <a href='https://wandb.ai/got-tree/mountain-car-v0/runs/w83kvyo5' target=\"_blank\">https://wandb.ai/got-tree/mountain-car-v0/runs/w83kvyo5</a><br/>Synced 5 W&B file(s), 0 media file(s), 1 artifact file(s) and 0 other file(s)"
          },
          "metadata": {},
          "output_type": "display_data"
        },
        {
          "data": {
            "text/plain": "<IPython.core.display.HTML object>",
            "text/html": "Find logs at: <code>./wandb/run-20230621_190933-w83kvyo5/logs</code>"
          },
          "metadata": {},
          "output_type": "display_data"
        },
        {
          "name": "stderr",
          "text": "\u001b[34m\u001b[1mwandb\u001b[0m: Sweep Agent: Waiting for job.\n\u001b[34m\u001b[1mwandb\u001b[0m: Job received.\n\u001b[34m\u001b[1mwandb\u001b[0m: Agent Starting Run: nalwcvy6 with config:\n\u001b[34m\u001b[1mwandb\u001b[0m: \tdiscount: 0.99\n\u001b[34m\u001b[1mwandb\u001b[0m: \tepsilon: 0.9\n\u001b[34m\u001b[1mwandb\u001b[0m: \tlearning_rate: 0.1\n\u001b[34m\u001b[1mwandb\u001b[0m: \tnum_states: 20\nFailed to detect the name of this notebook, you can set it manually with the WANDB_NOTEBOOK_NAME environment variable to enable code saving.\n",
          "output_type": "stream"
        },
        {
          "data": {
            "text/plain": "<IPython.core.display.HTML object>",
            "text/html": "Tracking run with wandb version 0.15.4"
          },
          "metadata": {},
          "output_type": "display_data"
        },
        {
          "data": {
            "text/plain": "<IPython.core.display.HTML object>",
            "text/html": "Run data is saved locally in <code>/work/wandb/run-20230621_192057-nalwcvy6</code>"
          },
          "metadata": {},
          "output_type": "display_data"
        },
        {
          "data": {
            "text/plain": "<IPython.core.display.HTML object>",
            "text/html": "Syncing run <strong><a href='https://wandb.ai/got-tree/mountain-car-v0/runs/nalwcvy6' target=\"_blank\">hardy-sweep-13</a></strong> to <a href='https://wandb.ai/got-tree/mountain-car-v0' target=\"_blank\">Weights & Biases</a> (<a href='https://wandb.me/run' target=\"_blank\">docs</a>)<br/>Sweep page: <a href='https://wandb.ai/got-tree/mountain-car-v0/sweeps/gir0m6jz' target=\"_blank\">https://wandb.ai/got-tree/mountain-car-v0/sweeps/gir0m6jz</a>"
          },
          "metadata": {},
          "output_type": "display_data"
        },
        {
          "data": {
            "text/plain": "<IPython.core.display.HTML object>",
            "text/html": " View project at <a href='https://wandb.ai/got-tree/mountain-car-v0' target=\"_blank\">https://wandb.ai/got-tree/mountain-car-v0</a>"
          },
          "metadata": {},
          "output_type": "display_data"
        },
        {
          "data": {
            "text/plain": "<IPython.core.display.HTML object>",
            "text/html": " View sweep at <a href='https://wandb.ai/got-tree/mountain-car-v0/sweeps/gir0m6jz' target=\"_blank\">https://wandb.ai/got-tree/mountain-car-v0/sweeps/gir0m6jz</a>"
          },
          "metadata": {},
          "output_type": "display_data"
        },
        {
          "data": {
            "text/plain": "<IPython.core.display.HTML object>",
            "text/html": " View run at <a href='https://wandb.ai/got-tree/mountain-car-v0/runs/nalwcvy6' target=\"_blank\">https://wandb.ai/got-tree/mountain-car-v0/runs/nalwcvy6</a>"
          },
          "metadata": {},
          "output_type": "display_data"
        },
        {
          "name": "stderr",
          "text": "Training: 100%|██████████| 25000/25000 [15:41<00:00, 26.56episode/s]\n",
          "output_type": "stream"
        },
        {
          "data": {
            "text/plain": "<IPython.core.display.HTML object>",
            "text/html": "Waiting for W&B process to finish... <strong style=\"color:green\">(success).</strong>"
          },
          "metadata": {},
          "output_type": "display_data"
        },
        {
          "data": {
            "text/plain": "<IPython.core.display.HTML object>",
            "text/html": "<style>\n    table.wandb td:nth-child(1) { padding: 0 10px; text-align: left ; width: auto;} td:nth-child(2) {text-align: left ; width: 100%}\n    .wandb-row { display: flex; flex-direction: row; flex-wrap: wrap; justify-content: flex-start; width: 100% }\n    .wandb-col { display: flex; flex-direction: column; flex-basis: 100%; flex: 1; padding: 10px; }\n    </style>\n<div class=\"wandb-row\"><div class=\"wandb-col\"><h3>Run history:</h3><br/><table class=\"wandb\"><tr><td>avg_reward</td><td>▁▄▅▆▇▇▇▇████████████████████████████████</td></tr><tr><td>eps</td><td>▁▁▁▁▂▂▂▅▂▄▄▂▂▃▄▃▇▄▄▆▅▆▂▄▄▅▆▅▃▄▇█▇▇█▃▆▃▆▆</td></tr><tr><td>epsilon</td><td>██▇▇▇▆▆▆▅▅▄▄▄▃▃▃▂▂▂▁▁▁▁▁▁▁▁▁▁▁▁▁▁▁▁▁▁▁▁▁</td></tr><tr><td>max_reward</td><td>▁▄▅▅▅▆▆▇▇▇▇▇▇▇██████████████████████████</td></tr><tr><td>min_reward</td><td>▁▁▁▁▁▁▁▁▁▁▁▁▁▁▁▁▁▁▁▁▁▁▁▁▁▁▁▁▁▁▁▁▁▁▁▁▁▁▁▁</td></tr><tr><td>reward</td><td>▂▁▃▅▆▇▇█▇▇██▇███████████████████████████</td></tr><tr><td>steps</td><td>▇█▆▄▃▂▂▁▂▂▁▁▂▁▁▁▁▁▁▁▁▁▁▁▁▁▁▁▁▁▁▁▁▁▁▁▁▁▁▁</td></tr></table><br/></div><div class=\"wandb-col\"><h3>Run summary:</h3><br/><table class=\"wandb\"><tr><td>avg_reward</td><td>-145.37</td></tr><tr><td>eps</td><td>59.37156</td></tr><tr><td>epsilon</td><td>-7e-05</td></tr><tr><td>max_reward</td><td>-105.0</td></tr><tr><td>min_reward</td><td>-19861.0</td></tr><tr><td>reward</td><td>-159.0</td></tr><tr><td>steps</td><td>159</td></tr></table><br/></div></div>"
          },
          "metadata": {},
          "output_type": "display_data"
        },
        {
          "data": {
            "text/plain": "<IPython.core.display.HTML object>",
            "text/html": " View run <strong style=\"color:#cdcd00\">hardy-sweep-13</strong> at: <a href='https://wandb.ai/got-tree/mountain-car-v0/runs/nalwcvy6' target=\"_blank\">https://wandb.ai/got-tree/mountain-car-v0/runs/nalwcvy6</a><br/>Synced 5 W&B file(s), 0 media file(s), 1 artifact file(s) and 0 other file(s)"
          },
          "metadata": {},
          "output_type": "display_data"
        },
        {
          "data": {
            "text/plain": "<IPython.core.display.HTML object>",
            "text/html": "Find logs at: <code>./wandb/run-20230621_192057-nalwcvy6/logs</code>"
          },
          "metadata": {},
          "output_type": "display_data"
        },
        {
          "name": "stderr",
          "text": "\u001b[34m\u001b[1mwandb\u001b[0m: Agent Starting Run: o2jtc68u with config:\n\u001b[34m\u001b[1mwandb\u001b[0m: \tdiscount: 0.95\n\u001b[34m\u001b[1mwandb\u001b[0m: \tepsilon: 0.9\n\u001b[34m\u001b[1mwandb\u001b[0m: \tlearning_rate: 0.1\n\u001b[34m\u001b[1mwandb\u001b[0m: \tnum_states: 10\nFailed to detect the name of this notebook, you can set it manually with the WANDB_NOTEBOOK_NAME environment variable to enable code saving.\n",
          "output_type": "stream"
        },
        {
          "data": {
            "text/plain": "<IPython.core.display.HTML object>",
            "text/html": "Tracking run with wandb version 0.15.4"
          },
          "metadata": {},
          "output_type": "display_data"
        },
        {
          "data": {
            "text/plain": "<IPython.core.display.HTML object>",
            "text/html": "Run data is saved locally in <code>/work/wandb/run-20230621_193648-o2jtc68u</code>"
          },
          "metadata": {},
          "output_type": "display_data"
        },
        {
          "data": {
            "text/plain": "<IPython.core.display.HTML object>",
            "text/html": "Syncing run <strong><a href='https://wandb.ai/got-tree/mountain-car-v0/runs/o2jtc68u' target=\"_blank\">denim-sweep-14</a></strong> to <a href='https://wandb.ai/got-tree/mountain-car-v0' target=\"_blank\">Weights & Biases</a> (<a href='https://wandb.me/run' target=\"_blank\">docs</a>)<br/>Sweep page: <a href='https://wandb.ai/got-tree/mountain-car-v0/sweeps/gir0m6jz' target=\"_blank\">https://wandb.ai/got-tree/mountain-car-v0/sweeps/gir0m6jz</a>"
          },
          "metadata": {},
          "output_type": "display_data"
        },
        {
          "data": {
            "text/plain": "<IPython.core.display.HTML object>",
            "text/html": " View project at <a href='https://wandb.ai/got-tree/mountain-car-v0' target=\"_blank\">https://wandb.ai/got-tree/mountain-car-v0</a>"
          },
          "metadata": {},
          "output_type": "display_data"
        },
        {
          "data": {
            "text/plain": "<IPython.core.display.HTML object>",
            "text/html": " View sweep at <a href='https://wandb.ai/got-tree/mountain-car-v0/sweeps/gir0m6jz' target=\"_blank\">https://wandb.ai/got-tree/mountain-car-v0/sweeps/gir0m6jz</a>"
          },
          "metadata": {},
          "output_type": "display_data"
        },
        {
          "data": {
            "text/plain": "<IPython.core.display.HTML object>",
            "text/html": " View run at <a href='https://wandb.ai/got-tree/mountain-car-v0/runs/o2jtc68u' target=\"_blank\">https://wandb.ai/got-tree/mountain-car-v0/runs/o2jtc68u</a>"
          },
          "metadata": {},
          "output_type": "display_data"
        },
        {
          "name": "stderr",
          "text": "Training: 100%|██████████| 25000/25000 [44:23<00:00,  9.39episode/s]\n",
          "output_type": "stream"
        },
        {
          "data": {
            "text/plain": "<IPython.core.display.HTML object>",
            "text/html": "Waiting for W&B process to finish... <strong style=\"color:green\">(success).</strong>"
          },
          "metadata": {},
          "output_type": "display_data"
        },
        {
          "data": {
            "text/plain": "<IPython.core.display.HTML object>",
            "text/html": "<style>\n    table.wandb td:nth-child(1) { padding: 0 10px; text-align: left ; width: auto;} td:nth-child(2) {text-align: left ; width: 100%}\n    .wandb-row { display: flex; flex-direction: row; flex-wrap: wrap; justify-content: flex-start; width: 100% }\n    .wandb-col { display: flex; flex-direction: column; flex-basis: 100%; flex: 1; padding: 10px; }\n    </style>\n<div class=\"wandb-row\"><div class=\"wandb-col\"><h3>Run history:</h3><br/><table class=\"wandb\"><tr><td>avg_reward</td><td>▁▃▃▄▆▆▆▆▇▇▇█▇███████████████████████████</td></tr><tr><td>eps</td><td>▁▁▁▁▁▁▁▃▁▂▂▁▂▁▃▂▄▅▃▄▃▆▄▂▃▃▇▅▅▃▃▃▅█▅▂▆▅▄▄</td></tr><tr><td>epsilon</td><td>██▇▇▇▆▆▆▅▅▄▄▄▃▃▃▂▂▂▁▁▁▁▁▁▁▁▁▁▁▁▁▁▁▁▁▁▁▁▁</td></tr><tr><td>max_reward</td><td>▁▂▂▅▅▅▆▇▇▇▇▇▇▇▇▇▇███████████████████████</td></tr><tr><td>min_reward</td><td>▁▁▁▁▁▁▁▁▁▁▁▁▁▁▁▁▁▁▁▁▁▁▁▁▁▁▁▁▁▁▁▁▁▁▁▁▁▁▁▁</td></tr><tr><td>reward</td><td>▄▁▇▇▃▆▃█▄██▅▇▅██████████████████████████</td></tr><tr><td>steps</td><td>▅█▂▂▆▃▆▁▅▁▁▄▂▄▁▁▁▁▁▁▁▁▁▁▁▁▁▁▁▁▁▁▁▁▁▁▁▁▁▁</td></tr></table><br/></div><div class=\"wandb-col\"><h3>Run summary:</h3><br/><table class=\"wandb\"><tr><td>avg_reward</td><td>-142.33</td></tr><tr><td>eps</td><td>87.77816</td></tr><tr><td>epsilon</td><td>-7e-05</td></tr><tr><td>max_reward</td><td>-88.0</td></tr><tr><td>min_reward</td><td>-68524.0</td></tr><tr><td>reward</td><td>-126.0</td></tr><tr><td>steps</td><td>126</td></tr></table><br/></div></div>"
          },
          "metadata": {},
          "output_type": "display_data"
        },
        {
          "data": {
            "text/plain": "<IPython.core.display.HTML object>",
            "text/html": " View run <strong style=\"color:#cdcd00\">denim-sweep-14</strong> at: <a href='https://wandb.ai/got-tree/mountain-car-v0/runs/o2jtc68u' target=\"_blank\">https://wandb.ai/got-tree/mountain-car-v0/runs/o2jtc68u</a><br/>Synced 5 W&B file(s), 0 media file(s), 1 artifact file(s) and 0 other file(s)"
          },
          "metadata": {},
          "output_type": "display_data"
        },
        {
          "data": {
            "text/plain": "<IPython.core.display.HTML object>",
            "text/html": "Find logs at: <code>./wandb/run-20230621_193648-o2jtc68u/logs</code>"
          },
          "metadata": {},
          "output_type": "display_data"
        },
        {
          "name": "stderr",
          "text": "\u001b[34m\u001b[1mwandb\u001b[0m: Sweep Agent: Waiting for job.\n\u001b[34m\u001b[1mwandb\u001b[0m: Sweep Agent: Exiting.\n",
          "output_type": "stream"
        }
      ],
      "execution_count": 0
    },
    {
      "cell_type": "markdown",
      "source": "<a style='text-decoration:none;line-height:16px;display:flex;color:#5B5B62;padding:10px;justify-content:end;' href='https://deepnote.com?utm_source=created-in-deepnote-cell&projectId=5878bf73-13c4-4232-bd61-633eeedc1f05' target=\"_blank\">\n<img alt='Created in deepnote.com' style='display:inline;max-height:16px;margin:0px;margin-right:7.5px;' src='data:image/svg+xml;base64,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' > </img>\nCreated in <span style='font-weight:600;margin-left:4px;'>Deepnote</span></a>",
      "metadata": {
        "created_in_deepnote_cell": true,
        "deepnote_cell_type": "markdown"
      }
    }
  ],
  "nbformat": 4,
  "nbformat_minor": 0,
  "metadata": {
    "deepnote": {},
    "orig_nbformat": 2,
    "deepnote_app_layout": "article",
    "deepnote_notebook_id": "b873c066d23d42898e0265d6618dd70d",
    "deepnote_persisted_session": {
      "createdAt": "2023-06-21T21:24:04.233Z"
    },
    "deepnote_execution_queue": []
  }
}